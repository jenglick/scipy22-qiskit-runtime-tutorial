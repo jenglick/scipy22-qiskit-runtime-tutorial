{
 "cells": [
  {
   "cell_type": "markdown",
   "id": "bored-aluminum",
   "metadata": {},
   "source": [
    "# ! Exercise !\n",
    "\n",
    "1. Open a Qiskit Runtime session with the `Estimator` context manager.\n",
    "2. Make multiple requests to the `estimator` primitive within the session.\n",
    "    * The parameter values of a request is based on the previous one.\n",
    "    * The loop ends when a target is achieved.\n"
   ]
  },
  {
   "cell_type": "markdown",
   "id": "recognized-holly",
   "metadata": {},
   "source": [
    "### A Solution..."
   ]
  },
  {
   "cell_type": "markdown",
   "id": "compatible-appendix",
   "metadata": {},
   "source": [
    "In the previous exercise, we computed the expectation values of the Pauli $X$ and $Y$ operators in the states $|1\\rangle, |+\\rangle$.\n",
    "\n",
    "Here we will do the same but with a small twist. We will prepare a circuit in the $|1\\rangle$ state and use Pauli $X$ operator if the expectation value is >0; Pauli $Y$ if the expectation value is <0. Since the expectation value should vanish, we set a target of 0.01 (not 0 because it's never _exactly_ 50/50)."
   ]
  },
  {
   "cell_type": "code",
   "execution_count": 1,
   "id": "spanish-biodiversity",
   "metadata": {},
   "outputs": [],
   "source": [
    "# Authenticate with the server.\n",
    "from qiskit_ibm_runtime import QiskitRuntimeService\n",
    "\n",
    "service = QiskitRuntimeService(channel=\"ibm_quantum\")"
   ]
  },
  {
   "cell_type": "code",
   "execution_count": 2,
   "id": "committed-floating",
   "metadata": {},
   "outputs": [],
   "source": [
    "# Prepare the circuit.\n",
    "from qiskit import QuantumCircuit\n",
    "\n",
    "qc1 = QuantumCircuit(1, 1)\n",
    "qc1.x(0)\n",
    "qc1.measure_all()"
   ]
  },
  {
   "cell_type": "code",
   "execution_count": 3,
   "id": "opened-exchange",
   "metadata": {},
   "outputs": [],
   "source": [
    "# Prepare the operators.\n",
    "from qiskit.quantum_info import SparsePauliOp\n",
    "\n",
    "x_op = SparsePauliOp.from_list([(\"X\", 1)])\n",
    "y_op = SparsePauliOp.from_list([(\"Y\", 1)])"
   ]
  },
  {
   "cell_type": "code",
   "execution_count": 4,
   "id": "actual-future",
   "metadata": {},
   "outputs": [
    {
     "name": "stdout",
     "output_type": "stream",
     "text": [
      "Expectation value: 0.068359375\n",
      "Expectation value: -0.060546875\n",
      "Expectation value: -0.015625\n",
      "Expectation value: 0.09375\n",
      "Expectation value: 0.02734375\n",
      "Expectation value: -0.037109375\n",
      "Expectation value: -0.041015625\n",
      "Expectation value: -0.0078125\n"
     ]
    }
   ],
   "source": [
    "# Get the expectation values.\n",
    "from qiskit_ibm_runtime import Estimator\n",
    "\n",
    "with Estimator(\n",
    "    circuits=[qc1],\n",
    "    observables=[x_op, y_op],\n",
    "    service=service, \n",
    "    options={ \"backend\": \"ibmq_qasm_simulator\" }\n",
    ") as estimator:\n",
    "\n",
    "    target = 0.01\n",
    "    exp_val = estimator(circuits=[0], observables=[x_op]).values[0]\n",
    "    print(f\"Expectation value: {exp_val}\")\n",
    "    \n",
    "    while abs(exp_val) > target:\n",
    "        op = x_op if exp_val > 0 else y_op\n",
    "        exp_val = estimator(circuits=[0], observables=[op]).values[0]\n",
    "        print(f\"Expectation value: {exp_val}\")"
   ]
  },
  {
   "cell_type": "code",
   "execution_count": 5,
   "id": "systematic-details",
   "metadata": {},
   "outputs": [
    {
     "data": {
      "text/html": [
       "<h3>Version Information</h3><table><tr><th>Qiskit Software</th><th>Version</th></tr><tr><td><code>qiskit-terra</code></td><td>0.21.0</td></tr><tr><td><code>qiskit-aer</code></td><td>0.10.4</td></tr><tr><td><code>qiskit-ignis</code></td><td>0.7.1</td></tr><tr><td><code>qiskit-ibmq-provider</code></td><td>0.19.2</td></tr><tr><td><code>qiskit</code></td><td>0.37.0</td></tr><tr><td><code>qiskit-nature</code></td><td>0.4.0</td></tr><tr><td><code>qiskit-optimization</code></td><td>0.4.0</td></tr><tr><td><code>qiskit-machine-learning</code></td><td>0.3.0</td></tr><tr><th>System information</th></tr><tr><td>Python version</td><td>3.8.1</td></tr><tr><td>Python compiler</td><td>Clang 11.0.3 (clang-1103.0.32.62)</td></tr><tr><td>Python build</td><td>default, Jul 15 2020 18:48:27</td></tr><tr><td>OS</td><td>Darwin</td></tr><tr><td>CPUs</td><td>8</td></tr><tr><td>Memory (Gb)</td><td>16.0</td></tr><tr><td colspan='2'>Sun Jul 10 21:32:35 2022 CDT</td></tr></table>"
      ],
      "text/plain": [
       "<IPython.core.display.HTML object>"
      ]
     },
     "metadata": {},
     "output_type": "display_data"
    },
    {
     "data": {
      "text/html": [
       "<div style='width: 100%; background-color:#d5d9e0;padding-left: 10px; padding-bottom: 10px; padding-right: 10px; padding-top: 5px'><h3>This code is a part of Qiskit</h3><p>&copy; Copyright IBM 2017, 2022.</p><p>This code is licensed under the Apache License, Version 2.0. You may<br>obtain a copy of this license in the LICENSE.txt file in the root directory<br> of this source tree or at http://www.apache.org/licenses/LICENSE-2.0.<p>Any modifications or derivative works of this code must retain this<br>copyright notice, and modified files need to carry a notice indicating<br>that they have been altered from the originals.</p></div>"
      ],
      "text/plain": [
       "<IPython.core.display.HTML object>"
      ]
     },
     "metadata": {},
     "output_type": "display_data"
    }
   ],
   "source": [
    "import qiskit.tools.jupyter\n",
    "%qiskit_version_table\n",
    "%qiskit_copyright"
   ]
  }
 ],
 "metadata": {
  "kernelspec": {
   "display_name": "Python 3 (ipykernel)",
   "language": "python",
   "name": "python3"
  },
  "language_info": {
   "codemirror_mode": {
    "name": "ipython",
    "version": 3
   },
   "file_extension": ".py",
   "mimetype": "text/x-python",
   "name": "python",
   "nbconvert_exporter": "python",
   "pygments_lexer": "ipython3",
   "version": "3.8.1"
  }
 },
 "nbformat": 4,
 "nbformat_minor": 5
}
