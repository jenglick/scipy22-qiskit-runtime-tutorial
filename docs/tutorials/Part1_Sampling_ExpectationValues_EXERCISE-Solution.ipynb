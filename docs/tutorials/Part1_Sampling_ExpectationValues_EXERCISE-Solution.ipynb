{
 "cells": [
  {
   "cell_type": "markdown",
   "id": "18091ccb",
   "metadata": {
    "slideshow": {
     "slide_type": "slide"
    }
   },
   "source": [
    "# Part 1: Introduction to Foundational Quantum Computing Tasks\n",
    "\n",
    "1. Sampling from quantum circuits (plus an exercise)\n",
    "\n",
    "2. Estimating expectation values of observables (plus an exercise)"
   ]
  },
  {
   "cell_type": "markdown",
   "id": "31b1f3df",
   "metadata": {
    "slideshow": {
     "slide_type": "slide"
    }
   },
   "source": [
    "# 1. Sampling from quantum circuits"
   ]
  },
  {
   "cell_type": "markdown",
   "id": "d71590aa",
   "metadata": {
    "slideshow": {
     "slide_type": "slide"
    }
   },
   "source": [
    "## ! EXERCISE !\n",
    "\n",
    "**Sample from a circuit with entangling gates.**\n",
    "\n",
    "1. Create a circuit with both single and two-qubit entangling gates of your choosing (check out the [Qiskit Circuit Library of standard gates](https://qiskit.org/documentation/apidoc/circuit_library.html)). For example, perhaps you might build a [Bell state](https://en.wikipedia.org/wiki/Bell_state) or a [GHZ state](https://en.wikipedia.org/wiki/Greenberger%E2%80%93Horne%E2%80%93Zeilinger_state).\n",
    "2. Measure all qubits in the computational basis\n",
    "3. Run the circuit on the `qasm_simulator` backend\n",
    "4. Plot a histogram of measurement counts (you can use Qiskit's `plot_histogram` functionality documented [here](https://qiskit.org/documentation/stubs/qiskit.visualization.plot_histogram.html))\n",
    "\n",
    "Is the output what you expected?"
   ]
  },
  {
   "cell_type": "markdown",
   "id": "82ff6412",
   "metadata": {},
   "source": [
    "### A Solution..."
   ]
  },
  {
   "cell_type": "code",
   "execution_count": 1,
   "id": "a6fc7294",
   "metadata": {},
   "outputs": [
    {
     "name": "stdout",
     "output_type": "stream",
     "text": [
      "        ┌───┐           ░ ┌─┐      \n",
      "   q_0: ┤ H ├──■────────░─┤M├──────\n",
      "        └───┘┌─┴─┐      ░ └╥┘┌─┐   \n",
      "   q_1: ─────┤ X ├──■───░──╫─┤M├───\n",
      "             └───┘┌─┴─┐ ░  ║ └╥┘┌─┐\n",
      "   q_2: ──────────┤ X ├─░──╫──╫─┤M├\n",
      "                  └───┘ ░  ║  ║ └╥┘\n",
      "meas: 3/═══════════════════╩══╩══╩═\n",
      "                           0  1  2 \n"
     ]
    },
    {
     "data": {
      "image/png": "[encoded data removed]",
      "text/plain": [
       "<Figure size 504x360 with 1 Axes>"
      ]
     },
     "execution_count": 1,
     "metadata": {},
     "output_type": "execute_result"
    }
   ],
   "source": [
    "# import functionality from qiskit for building and running circuits\n",
    "from qiskit import QuantumCircuit, BasicAer, transpile\n",
    "\n",
    "# here we'll create a GHZ state\n",
    "circuit = QuantumCircuit(3)\n",
    "circuit.h(0)\n",
    "circuit.cnot(0,1)\n",
    "circuit.cnot(1,2)\n",
    "circuit.measure_all()\n",
    "\n",
    "print(circuit.draw())\n",
    "\n",
    "# select a quantum backend and run the circuit\n",
    "backend = BasicAer.get_backend('qasm_simulator')\n",
    "shots = 2**13\n",
    "\n",
    "job = backend.run(transpile(circuit, backend), shots=shots)\n",
    "result = job.result()\n",
    "counts = result.get_counts()\n",
    "\n",
    "from qiskit.visualization import plot_histogram\n",
    "plot_histogram(counts)"
   ]
  },
  {
   "cell_type": "markdown",
   "id": "0998ae21",
   "metadata": {
    "slideshow": {
     "slide_type": "slide"
    }
   },
   "source": [
    "# 2. Estimating expectation values "
   ]
  },
  {
   "cell_type": "markdown",
   "id": "65f8c23b",
   "metadata": {
    "slideshow": {
     "slide_type": "slide"
    }
   },
   "source": [
    "### Example: Pauli $Z$ operator\n",
    "\n",
    "Recall that $Z = |0\\rangle\\langle0| - |1\\rangle\\langle1|$\n",
    "\n",
    "This means we can write the expectation of $Z$ as: \n",
    "\n",
    "\\begin{equation}\n",
    "\\begin{split}\n",
    "   \\langle\\psi|Z|\\psi\\rangle & = \\langle\\psi|0\\rangle\\langle0|\\psi\\rangle-\\langle\\psi|1\\rangle\\langle1|\\psi\\rangle \\\\\n",
    "                             & = |\\langle0|\\psi\\rangle|^2 - |\\langle1|\\psi\\rangle|^2 \\\\\n",
    "                             & = p(0) - p(1)\n",
    "\\end{split}\n",
    "\\end{equation}\n",
    "\n",
    "Therefore, to estimate the expectation value of $Z$, we: \n",
    "\n",
    "1. Prepare a circuit representing $|\\psi\\rangle$\n",
    "2. Measure in the computational ($Z$) basis to get the probabilities $|\\langle0|\\psi\\rangle|^2, |\\langle1|\\psi\\rangle|^2$\n",
    "3. Subtract the probability to measure \"1\" from \"0\""
   ]
  },
  {
   "cell_type": "markdown",
   "id": "0b48cdf4",
   "metadata": {
    "slideshow": {
     "slide_type": "slide"
    }
   },
   "source": [
    "## ! EXERCISE !\n",
    "\n",
    "\n",
    "**Compute the expectation value of the Pauli $X$ and $Y$ operators in the states $|1\\rangle, |+\\rangle$.**\n",
    "\n",
    "Hint: these operators can be related to $Z$ via the following transformations: $HZH=X$ and $SHZHS^\\dagger=Y$. How does this modify the math we saw above for the expectation value (and hence the circuit implementation)?\n",
    "\n",
    "Check out [this chapter of the Qiskit Textbook for info about using single-qubit gates](https://qiskit.org/textbook/ch-states/single-qubit-gates.html)."
   ]
  },
  {
   "cell_type": "markdown",
   "id": "4c5cf9db",
   "metadata": {},
   "source": [
    "### A Solution...\n",
    "\n",
    "Let's start with $X$ and modify the math for the expectation value. \n",
    "\n",
    "$$ \n",
    "\\begin{split}\n",
    "\\langle\\psi|X|\\psi\\rangle & = \\langle\\psi|HZH|\\psi\\rangle \\\\\n",
    "                          & = \\langle\\psi H|0\\rangle\\langle0|H\\psi\\rangle-\\langle\\psi H|1\\rangle\\langle1|H\\psi\\rangle\\\\\n",
    "                          & = |\\langle0|H\\psi\\rangle|^2 - |\\langle1|H\\psi\\rangle|^2\n",
    "\\end{split}\n",
    "$$\n",
    "\n",
    "Therefore, to estimate this expectation value, we apply a post-rotation ($H$) to the circuit $\\psi$ and then measure in the computational basis.\n",
    "\n",
    "Similarly for the expectation value of $Y$:\n",
    "\n",
    "$$ \n",
    "\\begin{split}\n",
    "\\langle\\psi|Y|\\psi\\rangle & = \\langle\\psi|SHZHS^\\dagger|\\psi\\rangle \\\\\n",
    "                          & = \\langle\\psi SH|0\\rangle\\langle0|HS^\\dagger\\psi\\rangle-\\langle\\psi SH|1\\rangle\\langle1|HS^\\dagger\\psi\\rangle\\\\\n",
    "                          & = |\\langle0|HS^\\dagger\\psi\\rangle|^2 - |\\langle1|HS^\\dagger\\psi\\rangle|^2\n",
    "\\end{split}\n",
    "$$\n",
    "In this case, we add the post-rotation $HS^\\dagger$ to the circuit."
   ]
  },
  {
   "cell_type": "code",
   "execution_count": 2,
   "id": "55891652",
   "metadata": {},
   "outputs": [
    {
     "name": "stdout",
     "output_type": "stream",
     "text": [
      "[0. 1.]\n"
     ]
    }
   ],
   "source": [
    "# defining the state |1>\n",
    "import numpy as np\n",
    "a = 0\n",
    "b = 1\n",
    "state = np.array([a,b])\n",
    "norm = np.linalg.norm(state)\n",
    "normalized_state_ONE = state/norm\n",
    "\n",
    "print(normalized_state_ONE)"
   ]
  },
  {
   "cell_type": "code",
   "execution_count": 3,
   "id": "8100b011",
   "metadata": {},
   "outputs": [
    {
     "name": "stdout",
     "output_type": "stream",
     "text": [
      "[0.70710678 0.70710678]\n"
     ]
    }
   ],
   "source": [
    "# define the state |+>\n",
    "a = 0.70710678 # 1/sqrt(2)\n",
    "b = 0.70710678\n",
    "state = np.array([a,b])\n",
    "norm = np.linalg.norm(state)\n",
    "normalized_state_PLUS = state/norm\n",
    "\n",
    "print(normalized_state_PLUS)"
   ]
  },
  {
   "cell_type": "markdown",
   "id": "c691696d",
   "metadata": {},
   "source": [
    "**Let's look at the eigenstate for the $X$ gate**"
   ]
  },
  {
   "cell_type": "code",
   "execution_count": 4,
   "id": "f6c6a4fd",
   "metadata": {
    "slideshow": {
     "slide_type": "slide"
    }
   },
   "outputs": [],
   "source": [
    "# define the Pauli X operator\n",
    "x = np.array([[0, 1],\n",
    "             [1, 0]])"
   ]
  },
  {
   "cell_type": "code",
   "execution_count": 5,
   "id": "415647d0",
   "metadata": {
    "slideshow": {
     "slide_type": "-"
    }
   },
   "outputs": [
    {
     "name": "stdout",
     "output_type": "stream",
     "text": [
      "\n",
      "Eigensystem of X:\n",
      "[-1.  1.]\n",
      "[[-0.70710678  0.70710678]\n",
      " [ 0.70710678  0.70710678]]\n"
     ]
    },
    {
     "data": {
      "image/png": "[encoded data removed]",
      "text/plain": [
       "<Figure size 288x288 with 1 Axes>"
      ]
     },
     "execution_count": 5,
     "metadata": {},
     "output_type": "execute_result"
    }
   ],
   "source": [
    "from qiskit.visualization import plot_state_city, plot_bloch_multivector\n",
    "x_eigenvals, x_eigenvecs = np.linalg.eigh(x)\n",
    "\n",
    "print('\\nEigensystem of X:')\n",
    "print(x_eigenvals)\n",
    "print(x_eigenvecs)\n",
    "\n",
    "plot_bloch_multivector(x_eigenvecs[:,1])"
   ]
  },
  {
   "cell_type": "markdown",
   "id": "4f13a70d",
   "metadata": {},
   "source": [
    "**To measure $\\langle1|X|1\\rangle$, add a post rotation ($H$)**"
   ]
  },
  {
   "cell_type": "code",
   "execution_count": 6,
   "id": "62af2407",
   "metadata": {
    "slideshow": {
     "slide_type": "-"
    }
   },
   "outputs": [
    {
     "name": "stdout",
     "output_type": "stream",
     "text": [
      "        ┌─────────────────┐┌───┐ ░ ┌─┐\n",
      "     q: ┤ Initialize(0,1) ├┤ H ├─░─┤M├\n",
      "        └─────────────────┘└───┘ ░ └╥┘\n",
      "meas: 1/════════════════════════════╩═\n",
      "                                    0 \n"
     ]
    }
   ],
   "source": [
    "circuit = QuantumCircuit(1)\n",
    "circuit.initialize(normalized_state_ONE)\n",
    "circuit.h(0)\n",
    "circuit.measure_all()\n",
    "print(circuit)"
   ]
  },
  {
   "cell_type": "code",
   "execution_count": 7,
   "id": "d9bdefc2",
   "metadata": {
    "slideshow": {
     "slide_type": "-"
    }
   },
   "outputs": [
    {
     "name": "stdout",
     "output_type": "stream",
     "text": [
      "{'1': 4153, '0': 4039}\n",
      "expectation value: -0.013916015625\n"
     ]
    }
   ],
   "source": [
    "job = backend.run(transpile(circuit, backend), shots=shots)\n",
    "result = job.result()\n",
    "\n",
    "counts = result.get_counts()\n",
    "print(counts)\n",
    "\n",
    "expval = (counts.get('0',0)-counts.get('1',0)) / shots\n",
    "print('expectation value: {}'.format(expval))"
   ]
  },
  {
   "cell_type": "markdown",
   "id": "78572ff1",
   "metadata": {},
   "source": [
    "This makes sense because $\\langle1|X|1\\rangle = |\\langle0|H|1\\rangle|^2-|\\langle1|H|1\\rangle|^2 = 1/2-1/2=0$. Note also, that the state $|1\\rangle$ is an equal superposition of the two eigenstates of the operator $X$: $|1\\rangle = 1/\\sqrt(2) (|+\\rangle - |-\\rangle)$, so we expect the expectation value to vanish."
   ]
  },
  {
   "cell_type": "markdown",
   "id": "05cf2663",
   "metadata": {},
   "source": [
    "**To measure $\\langle+|X|+\\rangle$, add a post rotation ($H$)**"
   ]
  },
  {
   "cell_type": "code",
   "execution_count": 8,
   "id": "758b53b5",
   "metadata": {
    "slideshow": {
     "slide_type": "-"
    }
   },
   "outputs": [
    {
     "name": "stdout",
     "output_type": "stream",
     "text": [
      "        ┌─────────────────────────────┐┌───┐ ░ ┌─┐\n",
      "     q: ┤ Initialize(0.70711,0.70711) ├┤ H ├─░─┤M├\n",
      "        └─────────────────────────────┘└───┘ ░ └╥┘\n",
      "meas: 1/════════════════════════════════════════╩═\n",
      "                                                0 \n"
     ]
    }
   ],
   "source": [
    "circuit = QuantumCircuit(1)\n",
    "circuit.initialize(normalized_state_PLUS)\n",
    "circuit.h(0)\n",
    "circuit.measure_all()\n",
    "print(circuit)"
   ]
  },
  {
   "cell_type": "code",
   "execution_count": 9,
   "id": "82f9bd93",
   "metadata": {
    "slideshow": {
     "slide_type": "-"
    }
   },
   "outputs": [
    {
     "name": "stdout",
     "output_type": "stream",
     "text": [
      "{'0': 8192}\n",
      "expectation value: 1.0\n"
     ]
    }
   ],
   "source": [
    "job = backend.run(transpile(circuit, backend), shots=shots)\n",
    "result = job.result()\n",
    "\n",
    "counts = result.get_counts()\n",
    "print(counts)\n",
    "\n",
    "expval = (counts.get('0',0)-counts.get('1',0)) / shots\n",
    "print('expectation value: {}'.format(expval))"
   ]
  },
  {
   "cell_type": "markdown",
   "id": "78041535",
   "metadata": {},
   "source": [
    "This makes sense because $\\langle+|X|+\\rangle = |\\langle0|H|+\\rangle|^2-|\\langle1|H|+\\rangle|^2 = |\\langle0|0\\rangle|^2-|\\langle1|0\\rangle|^2 = 1-0=1$. And also because the state $|+\\rangle$ is an _eigenstate_ of the operator $X$ with eigenvalue $1$."
   ]
  },
  {
   "cell_type": "markdown",
   "id": "3ab9dc7d",
   "metadata": {},
   "source": [
    "**Now, repeat this for the $Y$ gate, adding in the correct post rotation ($HS^\\dagger$)**"
   ]
  },
  {
   "cell_type": "code",
   "execution_count": 10,
   "id": "2a371794",
   "metadata": {},
   "outputs": [
    {
     "name": "stdout",
     "output_type": "stream",
     "text": [
      "        ┌─────────────────┐┌─────┐┌───┐ ░ ┌─┐\n",
      "     q: ┤ Initialize(0,1) ├┤ Sdg ├┤ H ├─░─┤M├\n",
      "        └─────────────────┘└─────┘└───┘ ░ └╥┘\n",
      "meas: 1/═══════════════════════════════════╩═\n",
      "                                           0 \n",
      "{'1': 4112, '0': 4080}\n",
      "expectation value: -0.00390625\n"
     ]
    }
   ],
   "source": [
    "circuit = QuantumCircuit(1)\n",
    "circuit.initialize(normalized_state_ONE)\n",
    "circuit.sdg(0)\n",
    "circuit.h(0)\n",
    "circuit.measure_all()\n",
    "print(circuit)\n",
    "\n",
    "job = backend.run(transpile(circuit, backend), shots=shots)\n",
    "result = job.result()\n",
    "counts = result.get_counts()\n",
    "print(counts)\n",
    "expval = (counts.get('0',0)-counts.get('1',0)) / shots\n",
    "print('expectation value: {}'.format(expval))"
   ]
  },
  {
   "cell_type": "markdown",
   "id": "66054683",
   "metadata": {},
   "source": [
    "For similar reasons as with $X$, we expect this to vanish because $|1\\rangle$ is an equal superposition of the eigenstates of the operator $Y$."
   ]
  },
  {
   "cell_type": "code",
   "execution_count": 11,
   "id": "9b22ed8c",
   "metadata": {},
   "outputs": [
    {
     "name": "stdout",
     "output_type": "stream",
     "text": [
      "        ┌─────────────────────────────┐┌─────┐┌───┐ ░ ┌─┐\n",
      "     q: ┤ Initialize(0.70711,0.70711) ├┤ Sdg ├┤ H ├─░─┤M├\n",
      "        └─────────────────────────────┘└─────┘└───┘ ░ └╥┘\n",
      "meas: 1/═══════════════════════════════════════════════╩═\n",
      "                                                       0 \n",
      "{'1': 4047, '0': 4145}\n",
      "expectation value: 0.011962890625\n"
     ]
    }
   ],
   "source": [
    "circuit = QuantumCircuit(1)\n",
    "circuit.initialize(normalized_state_PLUS)\n",
    "circuit.sdg(0)\n",
    "circuit.h(0)\n",
    "circuit.measure_all()\n",
    "print(circuit)\n",
    "\n",
    "job = backend.run(transpile(circuit, backend), shots=shots)\n",
    "result = job.result()\n",
    "counts = result.get_counts()\n",
    "print(counts)\n",
    "expval = (counts.get('0',0)-counts.get('1',0)) / shots\n",
    "print('expectation value: {}'.format(expval))"
   ]
  },
  {
   "cell_type": "markdown",
   "id": "83c052dd",
   "metadata": {},
   "source": [
    "In this case also, the expectation value vanishes because $|+\\rangle$ is an equal superposition of the eigenstates of the operator $Y$."
   ]
  },
  {
   "cell_type": "code",
   "execution_count": 12,
   "id": "5360848f",
   "metadata": {
    "slideshow": {
     "slide_type": "slide"
    }
   },
   "outputs": [
    {
     "data": {
      "text/html": [
       "<h3>Version Information</h3><table><tr><th>Qiskit Software</th><th>Version</th></tr><tr><td><code>qiskit-terra</code></td><td>0.21.0</td></tr><tr><td><code>qiskit-aer</code></td><td>0.10.4</td></tr><tr><td><code>qiskit-ignis</code></td><td>0.7.1</td></tr><tr><td><code>qiskit-ibmq-provider</code></td><td>0.19.2</td></tr><tr><td><code>qiskit</code></td><td>0.37.0</td></tr><tr><td><code>qiskit-nature</code></td><td>0.4.0</td></tr><tr><td><code>qiskit-optimization</code></td><td>0.4.0</td></tr><tr><td><code>qiskit-machine-learning</code></td><td>0.3.0</td></tr><tr><th>System information</th></tr><tr><td>Python version</td><td>3.8.13</td></tr><tr><td>Python compiler</td><td>Clang 12.0.0 </td></tr><tr><td>Python build</td><td>default, Mar 28 2022 06:16:26</td></tr><tr><td>OS</td><td>Darwin</td></tr><tr><td>CPUs</td><td>4</td></tr><tr><td>Memory (Gb)</td><td>32.0</td></tr><tr><td colspan='2'>Wed Jul 06 19:27:16 2022 MDT</td></tr></table>"
      ],
      "text/plain": [
       "<IPython.core.display.HTML object>"
      ]
     },
     "metadata": {},
     "output_type": "display_data"
    },
    {
     "data": {
      "text/html": [
       "<div style='width: 100%; background-color:#d5d9e0;padding-left: 10px; padding-bottom: 10px; padding-right: 10px; padding-top: 5px'><h3>This code is a part of Qiskit</h3><p>&copy; Copyright IBM 2017, 2022.</p><p>This code is licensed under the Apache License, Version 2.0. You may<br>obtain a copy of this license in the LICENSE.txt file in the root directory<br> of this source tree or at http://www.apache.org/licenses/LICENSE-2.0.<p>Any modifications or derivative works of this code must retain this<br>copyright notice, and modified files need to carry a notice indicating<br>that they have been altered from the originals.</p></div>"
      ],
      "text/plain": [
       "<IPython.core.display.HTML object>"
      ]
     },
     "metadata": {},
     "output_type": "display_data"
    }
   ],
   "source": [
    "import qiskit.tools.jupyter\n",
    "%qiskit_version_table\n",
    "%qiskit_copyright"
   ]
  }
 ],
 "metadata": {
  "kernelspec": {
   "display_name": "Python 3 (ipykernel)",
   "language": "python",
   "name": "python3"
  },
  "language_info": {
   "codemirror_mode": {
    "name": "ipython",
    "version": 3
   },
   "file_extension": ".py",
   "mimetype": "text/x-python",
   "name": "python",
   "nbconvert_exporter": "python",
   "pygments_lexer": "ipython3",
   "version": "3.8.13"
  }
 },
 "nbformat": 4,
 "nbformat_minor": 5
}
