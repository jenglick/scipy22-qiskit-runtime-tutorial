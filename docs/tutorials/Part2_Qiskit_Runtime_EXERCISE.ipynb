{
 "cells": [
  {
   "cell_type": "markdown",
   "id": "senior-steering",
   "metadata": {
    "slideshow": {
     "slide_type": "slide"
    }
   },
   "source": [
    "# Accessing Qiskit Runtime on IBM Quantum"
   ]
  },
  {
   "cell_type": "markdown",
   "id": "broke-windsor",
   "metadata": {
    "slideshow": {
     "slide_type": "subslide"
    }
   },
   "source": [
    "Before you can access IBM Quantum services, you need an IBM Quantum account. \n",
    "You can sign up for an account at https://quantum-computing.ibm.com/.\n",
    "\n",
    "Once you have an account, you can grab your API token"
   ]
  },
  {
   "cell_type": "markdown",
   "id": "approximate-hacker",
   "metadata": {
    "slideshow": {
     "slide_type": "subslide"
    }
   },
   "source": [
    "### Authenticating with the server"
   ]
  },
  {
   "cell_type": "code",
   "execution_count": 1,
   "id": "floating-estimate",
   "metadata": {
    "slideshow": {
     "slide_type": "fragment"
    }
   },
   "outputs": [],
   "source": [
    "# Import the module needed to access Qiskit Runtime\n",
    "from qiskit_ibm_runtime import QiskitRuntimeService\n",
    "\n",
    "# Save account on disk.\n",
    "# QiskitRuntimeService.save_account(channel=\"ibm_quantum\", token=<IBM Quantum API token>)\n",
    "\n",
    "# Load your IBM Quantum account or enable the account if it's not previously saved.\n",
    "service   = QiskitRuntimeService(channel=\"ibm_quantum\")\n",
    "# service = QiskitRuntimeService(channel=\"ibm_quantum\", token=<IBM Quantum API token>)"
   ]
  },
  {
   "cell_type": "markdown",
   "id": "minimal-injury",
   "metadata": {
    "slideshow": {
     "slide_type": "subslide"
    }
   },
   "source": [
    "### Running the hello-world program"
   ]
  },
  {
   "cell_type": "code",
   "execution_count": 2,
   "id": "exclusive-substance",
   "metadata": {
    "slideshow": {
     "slide_type": "fragment"
    }
   },
   "outputs": [
    {
     "name": "stdout",
     "output_type": "stream",
     "text": [
      "Hello, World!\n"
     ]
    }
   ],
   "source": [
    "# Specify the backend name.\n",
    "options = {\"backend_name\": \"ibmq_qasm_simulator\"}\n",
    "\n",
    "job = service.run(\n",
    "    program_id=\"hello-world\",\n",
    "    options=options,\n",
    "    inputs={},\n",
    ")\n",
    "\n",
    "# Get the job result - this is blocking and control may not return immediately.\n",
    "result = job.result()\n",
    "print(result)"
   ]
  },
  {
   "cell_type": "markdown",
   "id": "separated-breath",
   "metadata": {
    "slideshow": {
     "slide_type": "slide"
    }
   },
   "source": [
    "# Calling Sampler inside a Runtime Session\n"
   ]
  },
  {
   "cell_type": "markdown",
   "id": "charming-championship",
   "metadata": {
    "slideshow": {
     "slide_type": "subslide"
    }
   },
   "source": [
    "1. Prepare initial input data\n",
    "2. Select a backend\n",
    "3. Open a session\n",
    "4. Submit a request"
   ]
  },
  {
   "cell_type": "markdown",
   "id": "bibliographic-investigation",
   "metadata": {
    "slideshow": {
     "slide_type": "slide"
    }
   },
   "source": [
    "## Step 1: preparing program inputs"
   ]
  },
  {
   "cell_type": "markdown",
   "id": "heard-wages",
   "metadata": {
    "slideshow": {
     "slide_type": "fragment"
    }
   },
   "source": [
    "The `Sampler` takes in the following arguments:\n",
    "\n",
    "- **circuits**: a list of (parameterized) circuits that you want to investigate.\n",
    "- **parameters**: a list of parameters for the parameterized circuits (optional).\n",
    "- **skip_transpilation**: circuit transpilation is skipped if set to True. Default value is False.\n",
    "- **service**: the `QiskitRuntimeService` instance to run the program on.\n",
    "- **options**: Runtime options dictionary that control the execution environment."
   ]
  },
  {
   "cell_type": "markdown",
   "id": "czech-former",
   "metadata": {
    "slideshow": {
     "slide_type": "subslide"
    }
   },
   "source": [
    "You can also find the inputs and outputs of the primitives on the IBM Quantum website: https://quantum-computing.ibm.com/services?services=runtime&program=sampler "
   ]
  },
  {
   "cell_type": "markdown",
   "id": "wrong-update",
   "metadata": {
    "slideshow": {
     "slide_type": "subslide"
    }
   },
   "source": [
    "### Prepare a parameterized circuit"
   ]
  },
  {
   "cell_type": "markdown",
   "id": "focused-martin",
   "metadata": {
    "slideshow": {
     "slide_type": "subslide"
    }
   },
   "source": [
    "**Transpilation** in Qiskit is the process of rewriting a given input circuit to\n",
    "\n",
    "- convert high level gates to basis gates\n",
    "- map the input circuit to match the topology of a specific quantum device\n",
    "- optimize the circuit for execution"
   ]
  },
  {
   "cell_type": "markdown",
   "id": "absent-squad",
   "metadata": {
    "slideshow": {
     "slide_type": "subslide"
    }
   },
   "source": [
    "The transpiler makes things easier for the developers, but it can be time consuming. \n",
    "\n",
    "With VQA, circuit layout usually stays the same, and only the parameter values change. \n",
    "\n",
    "**Parameterized circuits** allow us to transpile once then bind with different parameters."
   ]
  },
  {
   "cell_type": "code",
   "execution_count": 3,
   "id": "stupid-mineral",
   "metadata": {
    "slideshow": {
     "slide_type": "subslide"
    }
   },
   "outputs": [
    {
     "name": "stdout",
     "output_type": "stream",
     "text": [
      "The circuit has 6 parameters\n"
     ]
    },
    {
     "data": {
      "text/html": [
       "<pre style=\"word-wrap: normal;white-space: pre;background: #fff0;line-height: 1.1;font-family: &quot;Courier New&quot;,Courier,monospace\">        ┌──────────┐     ┌──────────┐     ┌──────────┐ ░ ┌─┐   \n",
       "   q_0: ┤ Ry(θ[0]) ├──■──┤ Ry(θ[2]) ├──■──┤ Ry(θ[4]) ├─░─┤M├───\n",
       "        ├──────────┤┌─┴─┐├──────────┤┌─┴─┐├──────────┤ ░ └╥┘┌─┐\n",
       "   q_1: ┤ Ry(θ[1]) ├┤ X ├┤ Ry(θ[3]) ├┤ X ├┤ Ry(θ[5]) ├─░──╫─┤M├\n",
       "        └──────────┘└───┘└──────────┘└───┘└──────────┘ ░  ║ └╥┘\n",
       "meas: 2/══════════════════════════════════════════════════╩══╩═\n",
       "                                                          0  1 </pre>"
      ],
      "text/plain": [
       "        ┌──────────┐     ┌──────────┐     ┌──────────┐ ░ ┌─┐   \n",
       "   q_0: ┤ Ry(θ[0]) ├──■──┤ Ry(θ[2]) ├──■──┤ Ry(θ[4]) ├─░─┤M├───\n",
       "        ├──────────┤┌─┴─┐├──────────┤┌─┴─┐├──────────┤ ░ └╥┘┌─┐\n",
       "   q_1: ┤ Ry(θ[1]) ├┤ X ├┤ Ry(θ[3]) ├┤ X ├┤ Ry(θ[5]) ├─░──╫─┤M├\n",
       "        └──────────┘└───┘└──────────┘└───┘└──────────┘ ░  ║ └╥┘\n",
       "meas: 2/══════════════════════════════════════════════════╩══╩═\n",
       "                                                          0  1 "
      ]
     },
     "execution_count": 3,
     "metadata": {},
     "output_type": "execute_result"
    }
   ],
   "source": [
    "from qiskit.circuit.library import RealAmplitudes\n",
    "\n",
    "pqc = RealAmplitudes(num_qubits=2, reps=2)\n",
    "pqc.measure_all()\n",
    "\n",
    "print(f\"The circuit has {pqc.num_parameters} parameters\")\n",
    "pqc.decompose().draw()"
   ]
  },
  {
   "cell_type": "markdown",
   "id": "competitive-oracle",
   "metadata": {
    "slideshow": {
     "slide_type": "slide"
    }
   },
   "source": [
    "## Step 2: Selecting a backend"
   ]
  },
  {
   "cell_type": "markdown",
   "id": "honest-inside",
   "metadata": {
    "slideshow": {
     "slide_type": "fragment"
    }
   },
   "source": [
    "You can find all the backends you have access to, real or simulated, on the IBM Quantum website: https://quantum-computing.ibm.com/services/resources\n",
    "\n",
    "or programmatically:"
   ]
  },
  {
   "cell_type": "code",
   "execution_count": 5,
   "id": "laughing-johnston",
   "metadata": {
    "slideshow": {
     "slide_type": "subslide"
    }
   },
   "outputs": [
    {
     "name": "stdout",
     "output_type": "stream",
     "text": [
      "Backend ibmq_belem has 5 qubits.\n",
      "T1 value for qubit 0 is 0.00012124407978081647s\n"
     ]
    }
   ],
   "source": [
    "# You can also check the backend configuration and properties.\n",
    "# Backend configuration contains (mostly) static information about the backend.\n",
    "# Backend properties contains dynamic information about the backend.\n",
    "\n",
    "backend = service.least_busy(simulator=False, min_num_qubits=5)\n",
    "\n",
    "print(f\"Backend {backend.name} has {backend.configuration().num_qubits} qubits.\")\n",
    "print(f\"T1 value for qubit 0 is {backend.properties().t1(0)}s\")"
   ]
  },
  {
   "cell_type": "code",
   "execution_count": 6,
   "id": "meaning-german",
   "metadata": {
    "slideshow": {
     "slide_type": "subslide"
    }
   },
   "outputs": [],
   "source": [
    "# In this workshop we will be using the simulator.\n",
    "\n",
    "backend = \"ibmq_qasm_simulator\""
   ]
  },
  {
   "cell_type": "markdown",
   "id": "affected-robinson",
   "metadata": {
    "slideshow": {
     "slide_type": "slide"
    }
   },
   "source": [
    "## Step 3: Opening a session"
   ]
  },
  {
   "cell_type": "code",
   "execution_count": 7,
   "id": "circular-waste",
   "metadata": {
    "slideshow": {
     "slide_type": "fragment"
    }
   },
   "outputs": [],
   "source": [
    "from qiskit_ibm_runtime import Sampler\n",
    "\n",
    "# Use a context manager to open a session.\n",
    "with Sampler(circuits=pqc, service=service, options={\"backend\": backend}) as sampler:\n",
    "    pass"
   ]
  },
  {
   "cell_type": "markdown",
   "id": "cathedral-bibliography",
   "metadata": {
    "slideshow": {
     "slide_type": "slide"
    }
   },
   "source": [
    "## Step 4: Submitting a request"
   ]
  },
  {
   "cell_type": "code",
   "execution_count": 8,
   "id": "declared-consciousness",
   "metadata": {
    "slideshow": {
     "slide_type": "fragment"
    }
   },
   "outputs": [
    {
     "name": "stdout",
     "output_type": "stream",
     "text": [
      "SamplerResult(quasi_dists=[{'10': 0.080078125, '00': 0.1103515625, '11': 0.439453125, '01': 0.3701171875}], metadata=[{'header_metadata': {}, 'shots': 1024}])\n"
     ]
    }
   ],
   "source": [
    "with Sampler(circuits=pqc, service=service, options={\"backend\": backend}) as sampler:\n",
    "    result = sampler(circuits=[0], parameter_values=[[0, 1, 1, 2, 3, 5]])\n",
    "    print(result)"
   ]
  },
  {
   "cell_type": "markdown",
   "id": "searching-first",
   "metadata": {
    "slideshow": {
     "slide_type": "subslide"
    }
   },
   "source": [
    "### Submitting multiple requests within a session"
   ]
  },
  {
   "cell_type": "code",
   "execution_count": 9,
   "id": "improving-raising",
   "metadata": {
    "slideshow": {
     "slide_type": "subslide"
    }
   },
   "outputs": [
    {
     "name": "stdout",
     "output_type": "stream",
     "text": [
      "The circuit has 8 parameters\n"
     ]
    },
    {
     "data": {
      "text/html": [
       "<pre style=\"word-wrap: normal;white-space: pre;background: #fff0;line-height: 1.1;font-family: &quot;Courier New&quot;,Courier,monospace\">        ┌──────────┐┌──────────┐     ┌──────────┐┌──────────┐ ░ ┌─┐   \n",
       "   q_0: ┤ Ry(θ[0]) ├┤ Rz(θ[2]) ├──■──┤ Ry(θ[4]) ├┤ Rz(θ[6]) ├─░─┤M├───\n",
       "        ├──────────┤├──────────┤┌─┴─┐├──────────┤├──────────┤ ░ └╥┘┌─┐\n",
       "   q_1: ┤ Ry(θ[1]) ├┤ Rz(θ[3]) ├┤ X ├┤ Ry(θ[5]) ├┤ Rz(θ[7]) ├─░──╫─┤M├\n",
       "        └──────────┘└──────────┘└───┘└──────────┘└──────────┘ ░  ║ └╥┘\n",
       "meas: 2/═════════════════════════════════════════════════════════╩══╩═\n",
       "                                                                 0  1 </pre>"
      ],
      "text/plain": [
       "        ┌──────────┐┌──────────┐     ┌──────────┐┌──────────┐ ░ ┌─┐   \n",
       "   q_0: ┤ Ry(θ[0]) ├┤ Rz(θ[2]) ├──■──┤ Ry(θ[4]) ├┤ Rz(θ[6]) ├─░─┤M├───\n",
       "        ├──────────┤├──────────┤┌─┴─┐├──────────┤├──────────┤ ░ └╥┘┌─┐\n",
       "   q_1: ┤ Ry(θ[1]) ├┤ Rz(θ[3]) ├┤ X ├┤ Ry(θ[5]) ├┤ Rz(θ[7]) ├─░──╫─┤M├\n",
       "        └──────────┘└──────────┘└───┘└──────────┘└──────────┘ ░  ║ └╥┘\n",
       "meas: 2/═════════════════════════════════════════════════════════╩══╩═\n",
       "                                                                 0  1 "
      ]
     },
     "execution_count": 9,
     "metadata": {},
     "output_type": "execute_result"
    }
   ],
   "source": [
    "from qiskit.circuit.library import EfficientSU2\n",
    "\n",
    "pqc2 = EfficientSU2(num_qubits=2, reps=1)\n",
    "pqc2.measure_all()\n",
    "\n",
    "print(f\"The circuit has {pqc2.num_parameters} parameters\")\n",
    "pqc2.decompose().draw()"
   ]
  },
  {
   "cell_type": "code",
   "execution_count": 10,
   "id": "checked-three",
   "metadata": {
    "slideshow": {
     "slide_type": "subslide"
    }
   },
   "outputs": [
    {
     "name": "stdout",
     "output_type": "stream",
     "text": [
      "Result from circuit 0 with parameter [0, 1, 1, 2, 3, 5]: SamplerResult(quasi_dists=[{'00': 0.1375, '10': 0.0905, '11': 0.415, '01': 0.357}], metadata=[{'header_metadata': {}, 'shots': 2000}])\n",
      "\n",
      "Result from circuit 0 with parameters ([0, 1, 1, 2, 3, 5], [1, 2, 3, 4, 5, 6]): SamplerResult(quasi_dists=[{'10': 0.0955, '00': 0.1315, '11': 0.427, '01': 0.346}, {'01': 0.0325, '10': 0.585, '00': 0.0585, '11': 0.324}], metadata=[{'header_metadata': {}, 'shots': 2000}, {'header_metadata': {}, 'shots': 2000}])\n",
      "\n",
      "Result from circuits 0, 1 with parameters ([0, 1, 1, 2, 3, 5], [1, 2, 3, 4, 5, 6]): SamplerResult(quasi_dists=[{'00': 0.1405, '10': 0.0965, '11': 0.42, '01': 0.343}, {'10': 0.143, '00': 0.031, '11': 0.671, '01': 0.155}], metadata=[{'header_metadata': {}, 'shots': 2000}, {'header_metadata': {}, 'shots': 2000}])\n"
     ]
    }
   ],
   "source": [
    "from qiskit_ibm_runtime import Sampler\n",
    "\n",
    "theta1 = [0, 1, 1, 2, 3, 5]\n",
    "theta2 = [1, 2, 3, 4, 5, 6]\n",
    "theta3 = [0, 1, 2, 3, 4, 5, 6, 7]\n",
    "\n",
    "with Sampler(circuits=[pqc, pqc2], service=service, options={\"backend\": backend}) as sampler:    \n",
    "    result = sampler(circuits=[0], parameter_values=[theta1], shots=2000)\n",
    "    print(f\"Result from circuit 0 with parameter {theta1}: {result}\\n\")\n",
    "    \n",
    "    result = sampler(circuits=[0, 0], parameter_values=[theta1, theta2])\n",
    "    print(f\"Result from circuit 0 with parameters {theta1, theta2}: {result}\\n\")\n",
    "    \n",
    "    result = sampler(circuits=[0, 1], parameter_values=[theta1, theta3])\n",
    "    print(f\"Result from circuits 0, 1 with parameters {theta1, theta2}: {result}\")"
   ]
  },
  {
   "cell_type": "markdown",
   "id": "frequent-timeline",
   "metadata": {
    "slideshow": {
     "slide_type": "subslide"
    }
   },
   "source": [
    "### Iterative processing"
   ]
  },
  {
   "cell_type": "markdown",
   "id": "resistant-chorus",
   "metadata": {
    "slideshow": {
     "slide_type": "subslide"
    }
   },
   "source": [
    "Prepare a parameterized circuit that takes 1 parameter, theta.\n",
    "\n",
    "Theta determine the degree of rotation around the x axis (i.e. somewhere between straight up and straight down).\n",
    "\n",
    "Starting from $ 0.25*pi $, we increment the value of theta by the probability of getting a 1 from the previous job times $ pi $.\n",
    "\n",
    "For example, if the previous job has a distribution of `{'0': 0.65, '1': 0.35}`, the next job will run with theta=(0.35)*$pi$\n",
    "\n",
    "The loop stops when the probability of getting a 1 reaches >= 50%"
   ]
  },
  {
   "cell_type": "code",
   "execution_count": 12,
   "id": "cardiac-charity",
   "metadata": {
    "slideshow": {
     "slide_type": "subslide"
    }
   },
   "outputs": [
    {
     "data": {
      "text/html": [
       "<pre style=\"word-wrap: normal;white-space: pre;background: #fff0;line-height: 1.1;font-family: &quot;Courier New&quot;,Courier,monospace\">        ┌───────┐ ░ ┌─┐\n",
       "     q: ┤ Rx(θ) ├─░─┤M├\n",
       "        └───────┘ ░ └╥┘\n",
       "meas: 1/═════════════╩═\n",
       "                     0 </pre>"
      ],
      "text/plain": [
       "        ┌───────┐ ░ ┌─┐\n",
       "     q: ┤ Rx(θ) ├─░─┤M├\n",
       "        └───────┘ ░ └╥┘\n",
       "meas: 1/═════════════╩═\n",
       "                     0 "
      ]
     },
     "execution_count": 12,
     "metadata": {},
     "output_type": "execute_result"
    }
   ],
   "source": [
    "from qiskit.circuit import Parameter, QuantumCircuit\n",
    "\n",
    "# Create a custom parameterized circuit.\n",
    "theta = Parameter('θ')\n",
    "qc = QuantumCircuit(1)\n",
    "qc.rx(theta, 0)\n",
    "qc.measure_all()\n",
    "qc.draw()"
   ]
  },
  {
   "cell_type": "code",
   "execution_count": 14,
   "id": "sunset-satellite",
   "metadata": {
    "slideshow": {
     "slide_type": "subslide"
    }
   },
   "outputs": [
    {
     "name": "stdout",
     "output_type": "stream",
     "text": [
      "Result is [{'1': 0.16, '0': 0.84}] when using theta 0.7853981633974483\n",
      "Result is [{'1': 0.38, '0': 0.62}] when using theta 1.2880529879718152\n",
      "All done. Result is [{'0': 0.14, '1': 0.86}] when using theta 2.4818581963359367\n"
     ]
    }
   ],
   "source": [
    "from math import pi\n",
    "from qiskit_ibm_runtime import Sampler\n",
    "\n",
    "theta_val = 0.25*pi\n",
    "\n",
    "with Sampler(circuits=[qc], service=service, options={\"backend\": backend}) as sampler:\n",
    "    result = sampler(circuits=[0], parameter_values=[[theta_val]], shots=100)\n",
    "    \n",
    "    while result.quasi_dists[0].get('1', 0) < 0.5:\n",
    "        print(f\"Result is {result.quasi_dists} when using theta {theta_val}\")\n",
    "        \n",
    "        theta_val += (result.quasi_dists[0].get('1', 0.25)*pi)\n",
    "        result = sampler(circuits=[0], parameter_values=[[theta_val]], shots=100)\n",
    "\n",
    "    print(f\"All done. Result is {result.quasi_dists} when using theta {theta_val}\")\n",
    "        "
   ]
  },
  {
   "cell_type": "markdown",
   "id": "modular-respect",
   "metadata": {
    "slideshow": {
     "slide_type": "slide"
    }
   },
   "source": [
    "# ! Exercise !\n",
    "\n",
    "1. Open a Qiskit Runtime session with the `Estimator` context manager.\n",
    "2. Make multiple requests to the `estimator` primitive within the session.\n",
    "    * The parameter values of a request is based on the previous one.\n",
    "    * The loop ends when a target is achieved."
   ]
  },
  {
   "cell_type": "code",
   "execution_count": 15,
   "id": "further-leone",
   "metadata": {
    "slideshow": {
     "slide_type": "skip"
    }
   },
   "outputs": [
    {
     "data": {
      "text/html": [
       "<h3>Version Information</h3><table><tr><th>Qiskit Software</th><th>Version</th></tr><tr><td><code>qiskit-terra</code></td><td>0.21.0</td></tr><tr><td><code>qiskit-aer</code></td><td>0.10.4</td></tr><tr><td><code>qiskit-ignis</code></td><td>0.7.1</td></tr><tr><td><code>qiskit-ibmq-provider</code></td><td>0.19.2</td></tr><tr><td><code>qiskit</code></td><td>0.37.0</td></tr><tr><td><code>qiskit-nature</code></td><td>0.4.0</td></tr><tr><td><code>qiskit-optimization</code></td><td>0.4.0</td></tr><tr><td><code>qiskit-machine-learning</code></td><td>0.3.0</td></tr><tr><th>System information</th></tr><tr><td>Python version</td><td>3.8.1</td></tr><tr><td>Python compiler</td><td>Clang 11.0.3 (clang-1103.0.32.62)</td></tr><tr><td>Python build</td><td>default, Jul 15 2020 18:48:27</td></tr><tr><td>OS</td><td>Darwin</td></tr><tr><td>CPUs</td><td>8</td></tr><tr><td>Memory (Gb)</td><td>16.0</td></tr><tr><td colspan='2'>Fri Jul 08 14:43:34 2022 EDT</td></tr></table>"
      ],
      "text/plain": [
       "<IPython.core.display.HTML object>"
      ]
     },
     "metadata": {},
     "output_type": "display_data"
    },
    {
     "data": {
      "text/html": [
       "<div style='width: 100%; background-color:#d5d9e0;padding-left: 10px; padding-bottom: 10px; padding-right: 10px; padding-top: 5px'><h3>This code is a part of Qiskit</h3><p>&copy; Copyright IBM 2017, 2022.</p><p>This code is licensed under the Apache License, Version 2.0. You may<br>obtain a copy of this license in the LICENSE.txt file in the root directory<br> of this source tree or at http://www.apache.org/licenses/LICENSE-2.0.<p>Any modifications or derivative works of this code must retain this<br>copyright notice, and modified files need to carry a notice indicating<br>that they have been altered from the originals.</p></div>"
      ],
      "text/plain": [
       "<IPython.core.display.HTML object>"
      ]
     },
     "metadata": {},
     "output_type": "display_data"
    }
   ],
   "source": [
    "import qiskit.tools.jupyter\n",
    "%qiskit_version_table\n",
    "%qiskit_copyright"
   ]
  }
 ],
 "metadata": {
  "celltoolbar": "Slideshow",
  "kernelspec": {
   "display_name": "Python 3 (ipykernel)",
   "language": "python",
   "name": "python3"
  },
  "language_info": {
   "codemirror_mode": {
    "name": "ipython",
    "version": 3
   },
   "file_extension": ".py",
   "mimetype": "text/x-python",
   "name": "python",
   "nbconvert_exporter": "python",
   "pygments_lexer": "ipython3",
   "version": "3.8.1"
  }
 },
 "nbformat": 4,
 "nbformat_minor": 5
}
