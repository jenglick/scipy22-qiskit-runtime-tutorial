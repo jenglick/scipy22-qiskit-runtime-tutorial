{
 "cells": [
  {
   "cell_type": "markdown",
   "id": "cf451b81",
   "metadata": {},
   "source": [
    "# Variational Quantum Algorithms with Qiskit Runtime: <br> Ground State of a Molecule\n",
    "\n",
    "In this exercise, use Qiskit Runtime to find the approximate ground state energy of the $H_2$ molecule, with interatomic distance 0.72 angstroms.\n",
    "\n",
    "_Hints_\n",
    "\n",
    "- Start with the [notebook implementing a generic VQA](Part3_VQA_Generic.ipynb) and modify the input problem to accept an electronic structure problem.\n",
    "<br>\n",
    "\n",
    "- For help on setting up an electronic structure problem for $H_2$, check out [this tutorial from Qiskit Nature](https://qiskit.org/documentation/nature/tutorials/01_electronic_structure.html). \n",
    "<br>\n",
    "\n",
    "- It's recommended you use pyscf for the [`ElectronicStructureMoleculeDriver`](https://qiskit.org/documentation/nature/stubs/qiskit_nature.drivers.second_quantization.ElectronicStructureMoleculeDriver.html) and [`ParityMapper` for the qubit conversion](https://qiskit.org/documentation/nature/stubs/qiskit_nature.mappers.second_quantization.ParityMapper.html) (to reduce the system size down to 2 qubits). \n",
    "<br>\n",
    "\n",
    "- You can test different classical optimizers (e.g., [`NELDER_MEAD`](https://qiskit.org/documentation/stubs/qiskit.algorithms.optimizers.NELDER_MEAD.html)) and circuit ansatzae (e.g., [`RealAmplitudes`](https://qiskit.org/documentation/stubs/qiskit.circuit.library.RealAmplitudes.html))\n",
    "<br>\n",
    "\n",
    "- Once you get the expectation value from the qubit Hamiltonian, add back in the nuclear repulsion energy using the `total_energies` method of the `ElectronicStructureResult` documented [here](https://qiskit.org/documentation/nature/stubs/qiskit_nature.results.ElectronicStructureResult.total_energies.html#qiskit_nature.results.ElectronicStructureResult.total_energies)."
   ]
  },
  {
   "cell_type": "markdown",
   "id": "90b92f8f",
   "metadata": {},
   "source": [
    "## A Solution..."
   ]
  },
  {
   "cell_type": "markdown",
   "id": "ffbf8780",
   "metadata": {},
   "source": [
    "**Define the H2 molecule and the classical driver**"
   ]
  },
  {
   "cell_type": "code",
   "execution_count": 1,
   "id": "177ea442",
   "metadata": {},
   "outputs": [
    {
     "name": "stdout",
     "output_type": "stream",
     "text": [
      "Molecule:\n",
      "\tMultiplicity: 1\n",
      "\tCharge: 0\n",
      "\tUnit: Angstrom\n",
      "\tGeometry:\n",
      "\t\tH\t[0.0, 0.0, 0.0]\n",
      "\t\tH\t[0.0, 0.0, 0.72]\n"
     ]
    }
   ],
   "source": [
    "from qiskit_nature.drivers import Molecule\n",
    "from qiskit_nature.drivers.second_quantization import ElectronicStructureDriverType, ElectronicStructureMoleculeDriver\n",
    "\n",
    "dist = 0.72\n",
    "molecule = Molecule(geometry=[['H', [0., 0., 0.]], ['H', [0., 0., dist]]])\n",
    "driver = ElectronicStructureMoleculeDriver(molecule, basis='sto3g', \\\n",
    "                                           driver_type=ElectronicStructureDriverType.PYSCF)\n",
    "\n",
    "print(molecule)"
   ]
  },
  {
   "cell_type": "markdown",
   "id": "e53f02da",
   "metadata": {},
   "source": [
    "**Set up the electronic structure problem and build the second quantized hamiltonian**"
   ]
  },
  {
   "cell_type": "code",
   "execution_count": 2,
   "id": "62fa3431",
   "metadata": {},
   "outputs": [
    {
     "name": "stdout",
     "output_type": "stream",
     "text": [
      "Fermionic Operator\n",
      "register length=4, number terms=36\n",
      "  -1.2654933108286723 * ( +_0 -_0 )\n",
      "+ -0.4620859696969096 * ( +_1 -_1 )\n",
      "+ -1.2654933108286723 * ( +_2 -_2 )\n",
      "+ -0.4620859696969096 * ( +_3 -_3 )\n",
      "+ -0.3392865978929373 * ( +_0 +_0 -_0 -_0 )\n",
      "+ -0.090 ...\n"
     ]
    }
   ],
   "source": [
    "from qiskit_nature.problems.second_quantization import ElectronicStructureProblem\n",
    "\n",
    "es_problem = ElectronicStructureProblem(driver)\n",
    "second_q_ops = es_problem.second_q_ops()\n",
    "print(second_q_ops[0])"
   ]
  },
  {
   "cell_type": "markdown",
   "id": "4e8e8e30",
   "metadata": {},
   "source": [
    "**Convert the second quantized hamiltonian to a qubit hamiltonian**"
   ]
  },
  {
   "cell_type": "code",
   "execution_count": 3,
   "id": "3add5298",
   "metadata": {},
   "outputs": [
    {
     "name": "stdout",
     "output_type": "stream",
     "text": [
      "-1.048994064841825 * II\n",
      "+ 0.4073995404106219 * IZ\n",
      "- 0.40739954041062354 * ZI\n",
      "- 0.011379719791600448 * ZZ\n",
      "+ 0.18009856566184662 * XX\n"
     ]
    }
   ],
   "source": [
    "from qiskit_nature.converters.second_quantization import QubitConverter\n",
    "from qiskit_nature.mappers.second_quantization import ParityMapper\n",
    "\n",
    "qubit_converter = QubitConverter(ParityMapper(), two_qubit_reduction=True)\n",
    "hamiltonian = qubit_converter.convert(second_q_ops[0], num_particles=es_problem.num_particles)\n",
    "print(hamiltonian)"
   ]
  },
  {
   "cell_type": "markdown",
   "id": "2c28a312",
   "metadata": {},
   "source": [
    "**Let's solve this problem exactly using a numpy minimum eigensolver**"
   ]
  },
  {
   "cell_type": "code",
   "execution_count": 4,
   "id": "c545b7c3",
   "metadata": {},
   "outputs": [
    {
     "name": "stdout",
     "output_type": "stream",
     "text": [
      "exact_solution:\n",
      "-1.137111715115462\n"
     ]
    }
   ],
   "source": [
    "from qiskit.algorithms import NumPyMinimumEigensolver\n",
    "from qiskit.algorithms import MinimumEigensolverResult\n",
    "\n",
    "# Generate the exact solution\n",
    "sol = MinimumEigensolverResult()\n",
    "sol.eigenvalue = NumPyMinimumEigensolver().compute_minimum_eigenvalue(hamiltonian).eigenvalue\n",
    "exact_solution = es_problem.interpret(sol).total_energies[0]\n",
    "\n",
    "print('exact_solution:\\n{}'.format(exact_solution))"
   ]
  },
  {
   "cell_type": "markdown",
   "id": "ac6fb0d4",
   "metadata": {},
   "source": [
    "**Before we can use Qiskit Runtime to solve, we need to convert the hamiltonian into an [opflow op](https://qiskit.org/documentation/apidoc/opflow.html)**"
   ]
  },
  {
   "cell_type": "code",
   "execution_count": 5,
   "id": "be706510",
   "metadata": {},
   "outputs": [],
   "source": [
    "from qiskit.opflow import TaperedPauliSumOp\n",
    "import numpy as np\n",
    "\n",
    "ops = []\n",
    "h = hamiltonian.primitive\n",
    "h.coeffs = np.real(hamiltonian.coeffs)\n",
    "ops.append(TaperedPauliSumOp(h, hamiltonian.z2_symmetries))"
   ]
  },
  {
   "cell_type": "markdown",
   "id": "76a0efc1",
   "metadata": {},
   "source": [
    "**Let's start the qiskit runtime service and define our problem inputs**\n",
    "\n",
    "We'll choose a backend, a classical optimizer, and a circuit ansatz for the ground state."
   ]
  },
  {
   "cell_type": "code",
   "execution_count": 6,
   "id": "80d30903",
   "metadata": {},
   "outputs": [],
   "source": [
    "from qiskit_ibm_runtime import QiskitRuntimeService, Estimator\n",
    "service = QiskitRuntimeService()\n",
    "options = {\"backend\" : \"ibmq_qasm_simulator\"}\n",
    "\n",
    "from qiskit.algorithms.optimizers import NELDER_MEAD\n",
    "from qiskit.circuit.library import RealAmplitudes\n",
    "circuit = RealAmplitudes(num_qubits=hamiltonian.num_qubits, reps=2)"
   ]
  },
  {
   "cell_type": "markdown",
   "id": "0b23a35d",
   "metadata": {},
   "source": [
    "**This is what our circuit looks like**"
   ]
  },
  {
   "cell_type": "code",
   "execution_count": 7,
   "id": "39a3ddb0",
   "metadata": {},
   "outputs": [
    {
     "data": {
      "text/html": [
       "<pre style=\"word-wrap: normal;white-space: pre;background: #fff0;line-height: 1.1;font-family: &quot;Courier New&quot;,Courier,monospace\">     ┌──────────┐     ┌──────────┐     ┌──────────┐\n",
       "q_0: ┤ Ry(θ[0]) ├──■──┤ Ry(θ[2]) ├──■──┤ Ry(θ[4]) ├\n",
       "     ├──────────┤┌─┴─┐├──────────┤┌─┴─┐├──────────┤\n",
       "q_1: ┤ Ry(θ[1]) ├┤ X ├┤ Ry(θ[3]) ├┤ X ├┤ Ry(θ[5]) ├\n",
       "     └──────────┘└───┘└──────────┘└───┘└──────────┘</pre>"
      ],
      "text/plain": [
       "     ┌──────────┐     ┌──────────┐     ┌──────────┐\n",
       "q_0: ┤ Ry(θ[0]) ├──■──┤ Ry(θ[2]) ├──■──┤ Ry(θ[4]) ├\n",
       "     ├──────────┤┌─┴─┐├──────────┤┌─┴─┐├──────────┤\n",
       "q_1: ┤ Ry(θ[1]) ├┤ X ├┤ Ry(θ[3]) ├┤ X ├┤ Ry(θ[5]) ├\n",
       "     └──────────┘└───┘└──────────┘└───┘└──────────┘"
      ]
     },
     "execution_count": 7,
     "metadata": {},
     "output_type": "execute_result"
    }
   ],
   "source": [
    "circuit.decompose().draw()"
   ]
  },
  {
   "cell_type": "markdown",
   "id": "c255940a",
   "metadata": {},
   "source": [
    "**Now, we can use the Estimator code from the generic VQA example**"
   ]
  },
  {
   "cell_type": "code",
   "execution_count": 8,
   "id": "33f8064d",
   "metadata": {},
   "outputs": [
    {
     "name": "stdout",
     "output_type": "stream",
     "text": [
      "expval: -1.0709425274497646\n",
      "expval: -1.083314298722292\n",
      "expval: -1.0887286322073177\n",
      "expval: -1.1519610995814205\n",
      "expval: -1.1951755955523224\n",
      "expval: -1.1972795493299202\n",
      "expval: -1.3412786636638436\n",
      "expval: -1.3400985559996337\n",
      "expval: -1.320539403654403\n",
      "expval: -1.5378991469943188\n",
      "expval: -1.548941573766889\n",
      "expval: -1.5315590433349964\n",
      "expval: -1.7702814040672448\n",
      "expval: -1.7983754419711757\n",
      "expval: -1.800460470988544\n",
      "expval: -1.7681832355829854\n",
      "expval: -1.7856082808737928\n",
      "expval: -1.766199472208579\n",
      "expval: -1.7710815275044796\n",
      "expval: -1.7775368403796818\n",
      "expval: -1.7981211175918743\n",
      "expval: -1.7666760829612842\n",
      "expval: -1.78316302271693\n",
      "expval: -1.7821406784593512\n",
      "expval: -1.7845774493771651\n",
      "expval: -1.778377278097903\n",
      "expval: -1.8022189695268154\n",
      "expval: -1.8787261530232462\n",
      "expval: -1.8519370785251725\n",
      "expval: -1.8481992054339307\n",
      "expval: -1.870987555890576\n",
      "expval: -1.839140542035766\n",
      "expval: -1.8423631507478166\n",
      "expval: -1.8487882972355811\n",
      "expval: -1.8619895542267544\n",
      "expval: -1.856260234628084\n",
      "expval: -1.8444698458029611\n",
      "expval: -1.8680165958333403\n",
      "expval: -1.8665782632255634\n"
     ]
    }
   ],
   "source": [
    "convergence = []\n",
    "\n",
    "with Estimator(\n",
    "    circuits=circuit,\n",
    "    observables=ops,\n",
    "    options=options,\n",
    "    service=service\n",
    ") as estimator:\n",
    "    \n",
    "    def evaluate_expectation(x):\n",
    "        x = list(x)\n",
    "        results = estimator(circuits=[0], observables=[0], parameter_values=[x]).values[0]\n",
    "        return np.real(results)\n",
    "\n",
    "    def callback(fx):\n",
    "        expval = evaluate_expectation(fx)\n",
    "        print('expval: {}'.format(expval))\n",
    "        convergence.append(expval)\n",
    "\n",
    "    np.random.seed(1)\n",
    "    initial_point = np.random.uniform(-np.pi, np.pi, len(circuit.parameters))\n",
    "    optimizer = NELDER_MEAD(40, callback=callback)\n",
    "    result = optimizer.minimize(fun=evaluate_expectation, x0=initial_point)\n"
   ]
  },
  {
   "cell_type": "markdown",
   "id": "2eef9b35",
   "metadata": {},
   "source": [
    "**We'll add the contribution of the nuclear repulsion energy from the driver to get the total energy**"
   ]
  },
  {
   "cell_type": "code",
   "execution_count": 9,
   "id": "c750b622",
   "metadata": {},
   "outputs": [
    {
     "name": "stdout",
     "output_type": "stream",
     "text": [
      "[-0.33597417894976456, -0.34834595022229187, -0.3537602837073177, -0.4169927510814204, -0.4602072470523224, -0.46231120082992017, -0.6063103151638436, -0.6051302074996336, -0.5855710551544029, -0.8029307984943188, -0.813973225266889, -0.7965906948349963, -1.0353130555672447, -1.0634070934711757, -1.0654921224885439, -1.0332148870829854, -1.0506399323737927, -1.031231123708579, -1.0361131790044795, -1.0425684918796818, -1.0631527690918743, -1.0317077344612842, -1.04819467421693, -1.0471723299593512, -1.049609100877165, -1.043408929597903, -1.0672506210268153, -1.1437578045232462, -1.1169687300251725, -1.1132308569339306, -1.136019207390576, -1.104172193535766, -1.1073948022478166, -1.113819948735581, -1.1270212057267543, -1.121291886128084, -1.109501497302961, -1.1330482473333403, -1.1316099147255634]\n"
     ]
    }
   ],
   "source": [
    "total_energy = []\n",
    "for i in range(len(convergence)):\n",
    "    sol = MinimumEigensolverResult()\n",
    "    sol.eigenvalue = convergence[i]\n",
    "    sol = es_problem.interpret(sol).total_energies[0]\n",
    "    total_energy.append(sol)\n",
    "\n",
    "print(total_energy)"
   ]
  },
  {
   "cell_type": "markdown",
   "id": "f20bf294",
   "metadata": {},
   "source": [
    "**And, finally, let's plot the convergence of our algorithm**"
   ]
  },
  {
   "cell_type": "code",
   "execution_count": 10,
   "id": "e871cbfd",
   "metadata": {},
   "outputs": [
    {
     "data": {
      "image/png": "[encoded data removed]",
      "text/plain": [
       "<Figure size 864x432 with 1 Axes>"
      ]
     },
     "metadata": {
      "needs_background": "light"
     },
     "output_type": "display_data"
    }
   ],
   "source": [
    "import matplotlib.pyplot as plt\n",
    "plt.rcParams[\"font.size\"] = 14\n",
    "\n",
    "plt.figure(figsize=(12, 6))\n",
    "plt.plot(total_energy, label=\"Estimator VQE\")\n",
    "plt.axhline(y=exact_solution, color=\"tab:red\", ls=\"--\", label=\"Target\")\n",
    "\n",
    "plt.legend(loc=\"best\")\n",
    "plt.xlabel(\"Iteration\")\n",
    "plt.ylabel(\"Energy [H]\")\n",
    "plt.title(\"VQE energy\")\n",
    "plt.show()"
   ]
  },
  {
   "cell_type": "code",
   "execution_count": 11,
   "id": "afc066b6",
   "metadata": {},
   "outputs": [
    {
     "data": {
      "text/plain": [
       "'0.6.0'"
      ]
     },
     "execution_count": 11,
     "metadata": {},
     "output_type": "execute_result"
    }
   ],
   "source": [
    "import qiskit_ibm_runtime\n",
    "qiskit_ibm_runtime.version.get_version_info()"
   ]
  },
  {
   "cell_type": "code",
   "execution_count": 12,
   "id": "93834def",
   "metadata": {},
   "outputs": [
    {
     "data": {
      "text/html": [
       "<h3>Version Information</h3><table><tr><th>Qiskit Software</th><th>Version</th></tr><tr><td><code>qiskit-terra</code></td><td>0.21.0</td></tr><tr><td><code>qiskit-aer</code></td><td>0.10.4</td></tr><tr><td><code>qiskit-ignis</code></td><td>0.7.1</td></tr><tr><td><code>qiskit-ibmq-provider</code></td><td>0.19.2</td></tr><tr><td><code>qiskit</code></td><td>0.37.0</td></tr><tr><td><code>qiskit-nature</code></td><td>0.4.0</td></tr><tr><td><code>qiskit-optimization</code></td><td>0.4.0</td></tr><tr><td><code>qiskit-machine-learning</code></td><td>0.3.0</td></tr><tr><th>System information</th></tr><tr><td>Python version</td><td>3.8.13</td></tr><tr><td>Python compiler</td><td>Clang 12.0.0 </td></tr><tr><td>Python build</td><td>default, Mar 28 2022 06:16:26</td></tr><tr><td>OS</td><td>Darwin</td></tr><tr><td>CPUs</td><td>4</td></tr><tr><td>Memory (Gb)</td><td>32.0</td></tr><tr><td colspan='2'>Wed Jul 06 18:34:39 2022 MDT</td></tr></table>"
      ],
      "text/plain": [
       "<IPython.core.display.HTML object>"
      ]
     },
     "metadata": {},
     "output_type": "display_data"
    },
    {
     "data": {
      "text/html": [
       "<div style='width: 100%; background-color:#d5d9e0;padding-left: 10px; padding-bottom: 10px; padding-right: 10px; padding-top: 5px'><h3>This code is a part of Qiskit</h3><p>&copy; Copyright IBM 2017, 2022.</p><p>This code is licensed under the Apache License, Version 2.0. You may<br>obtain a copy of this license in the LICENSE.txt file in the root directory<br> of this source tree or at http://www.apache.org/licenses/LICENSE-2.0.<p>Any modifications or derivative works of this code must retain this<br>copyright notice, and modified files need to carry a notice indicating<br>that they have been altered from the originals.</p></div>"
      ],
      "text/plain": [
       "<IPython.core.display.HTML object>"
      ]
     },
     "metadata": {},
     "output_type": "display_data"
    }
   ],
   "source": [
    "from qiskit.tools.jupyter import *\n",
    "\n",
    "%qiskit_version_table\n",
    "%qiskit_copyright"
   ]
  }
 ],
 "metadata": {
  "kernelspec": {
   "display_name": "Python 3 (ipykernel)",
   "language": "python",
   "name": "python3"
  },
  "language_info": {
   "codemirror_mode": {
    "name": "ipython",
    "version": 3
   },
   "file_extension": ".py",
   "mimetype": "text/x-python",
   "name": "python",
   "nbconvert_exporter": "python",
   "pygments_lexer": "ipython3",
   "version": "3.8.13"
  }
 },
 "nbformat": 4,
 "nbformat_minor": 5
}
