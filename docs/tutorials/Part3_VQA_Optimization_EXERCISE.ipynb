{
 "cells": [
  {
   "cell_type": "markdown",
   "id": "cd940344",
   "metadata": {},
   "source": [
    "# Variational Quantum Algorithms with Qiskit Runtime:<br>Combinatorial Optimization\n",
    "\n",
    "In this exercise, use Qiskit Runtime to find the approximate solution to a combinatorial optimization problem. \n",
    "\n",
    "For example, you could either use a pre-generated instance of a 4-node maxcut graph with weight matrix given by\n",
    "\n",
    "```\n",
    "w = [[0. 1. 1. 1.]\n",
    "     [1. 0. 1. 0.]\n",
    "     [1. 1. 0. 1.]\n",
    "     [1. 0. 1. 0.]]\n",
    "```\n",
    "\n",
    "Or, start with the below QUBO with binary variables `x`, `y`, and `z`:\n",
    "\n",
    "```\n",
    "Minimize: \n",
    "  x - 2 y + 3 z + [ 2 x*y - 2 x*z + 4 y*z ]/2\n",
    "```\n",
    "\n",
    "_Hints_\n",
    "\n",
    "- Start with the [notebook implementing a generic VQA with Qiskit Runtime](Part3_VQA_Generic.ipynb) and modify the input problem to be a combinatorial optimization problem.\n",
    "<br>\n",
    "\n",
    "- If you choose to solve the QUBO, check out this tutorial from Qiskit Optimization on [how to construct Quadratic Programs](https://qiskit.org/documentation/optimization/tutorials/01_quadratic_program.html).\n",
    "<br>\n",
    "\n",
    "- If you choose to solve the maxcut instance, check out this tutorial for [setting up a maxcut problem and mapping to an Ising hamiltonian](https://qiskit.org/documentation/optimization/tutorials/06_examples_max_cut_and_tsp.html).\n",
    "<br>\n",
    "\n",
    "- For either problem, you can use the [`Estimator` primitive](https://qiskit.org/documentation/partners/qiskit_ibm_runtime/tutorials/how-to-getting-started-with-estimator.html) to minimize the energy of the problem. Then, you can use the [`Sampler` primitive](https://qiskit.org/documentation/partners/qiskit_ibm_runtime/tutorials/how-to-getting-started-with-sampler.html) to get the bitstrings from the approximate ground state. From these bitstrings, you can compute the objective values and probabilities. Finally, the solution is given by the bitstring that yields the best objective function value.\n",
    "<br>\n",
    "\n",
    "- For your choice of circuit ansatz, you might start with the [`TwoLocal` circuit](https://qiskit.org/documentation/stubs/qiskit.circuit.library.TwoLocal.html) or [`RealAmplitudes`](https://qiskit.org/documentation/stubs/qiskit.circuit.library.RealAmplitudes.html), but feel free to check out the other [options in the Qiskit Circuit Library](https://qiskit.org/documentation/apidoc/circuit_library.html#n-local-circuits). \n",
    "<br>\n",
    "\n",
    "- The [SPSA optimizer](https://qiskit.org/documentation/stubs/qiskit.algorithms.optimizers.SPSA.html) is a good choice to try for the classical optimizer. If you choose this, define your callback function with the following arguments:\n",
    "\n",
    "```\n",
    "# save outputs of SPSA to a dictionary with 5 keys:\n",
    "history = {\"nfevs\": [], \"points\": [], \"fvals\": [], \"updates\": [], \"accepted\": []}\n",
    "\n",
    "def callback(nfev, point, fval, update, accepted):\n",
    "    print('expectation value: {}'.format(fval))\n",
    "    history[\"nfevs\"].append(nfev)\n",
    "    history[\"points\"].append(point)\n",
    "    history[\"fvals\"].append(fval)\n",
    "    history[\"updates\"].append(update)\n",
    "    history[\"accepted\"].append(accepted)     \n",
    "```"
   ]
  }
 ],
 "metadata": {
  "kernelspec": {
   "display_name": "Python 3 (ipykernel)",
   "language": "python",
   "name": "python3"
  },
  "language_info": {
   "codemirror_mode": {
    "name": "ipython",
    "version": 3
   },
   "file_extension": ".py",
   "mimetype": "text/x-python",
   "name": "python",
   "nbconvert_exporter": "python",
   "pygments_lexer": "ipython3",
   "version": "3.8.13"
  }
 },
 "nbformat": 4,
 "nbformat_minor": 5
}
