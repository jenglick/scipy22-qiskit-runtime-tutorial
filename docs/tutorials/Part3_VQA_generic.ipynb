{
 "cells": [
  {
   "cell_type": "markdown",
   "id": "0fcfb2e6",
   "metadata": {
    "slideshow": {
     "slide_type": "slide"
    }
   },
   "source": [
    "# Variational Quantum Algorithms with Qiskit Runtime: <br>Generic Example\n",
    "\n",
    "In this notebook, we will work through a simple example of building variational quantum algorithms using Qiskit Runtime.\n",
    "\n",
    "1. Define a Hamiltonian, representing system of interest, from Pauli operators\n",
    "2. Select a quantum circuit representing the ground state ansatz\n",
    "3. Construct an optimization loop to minimize the energy (expectation value of the Hamiltonian)\n",
    "4. Retrieve the result (approximate ground state energy)\n"
   ]
  },
  {
   "cell_type": "markdown",
   "id": "9b521ea7",
   "metadata": {
    "slideshow": {
     "slide_type": "slide"
    }
   },
   "source": [
    "## 1. Define a (very simple) Hamiltonian"
   ]
  },
  {
   "cell_type": "code",
   "execution_count": 1,
   "id": "74717252",
   "metadata": {},
   "outputs": [
    {
     "name": "stdout",
     "output_type": "stream",
     "text": [
      "SparsePauliOp(['ZZII'],\n",
      "              coeffs=[1.+0.j])\n"
     ]
    }
   ],
   "source": [
    "from qiskit.quantum_info import SparsePauliOp\n",
    "\n",
    "op = SparsePauliOp.from_list([(\"ZZII\", 1)])\n",
    "num_qubits = op.num_qubits\n",
    "ops = [op]\n",
    "\n",
    "print(op)"
   ]
  },
  {
   "cell_type": "markdown",
   "id": "9d2a07a8",
   "metadata": {
    "slideshow": {
     "slide_type": "slide"
    }
   },
   "source": [
    "#### This Hamiltonian has a minimum energy of $-1$ (which you can see from eigenvalues of $Z$)"
   ]
  },
  {
   "cell_type": "code",
   "execution_count": 2,
   "id": "62a63b18",
   "metadata": {},
   "outputs": [],
   "source": [
    "target_energy = -1"
   ]
  },
  {
   "cell_type": "markdown",
   "id": "aa708d17",
   "metadata": {
    "slideshow": {
     "slide_type": "slide"
    }
   },
   "source": [
    "## 2. Choose a ground state ansatz\n",
    "\n",
    "We'll use a parametrized circuit from the Qiskit Circuit Library.<br>\n",
    "[`EfficientSU2` yields short-depth circuits](https://qiskit.org/documentation/stubs/qiskit.circuit.library.EfficientSU2.html) well suited for noisy quantum hardware."
   ]
  },
  {
   "cell_type": "code",
   "execution_count": 3,
   "id": "bb8fd3b2",
   "metadata": {},
   "outputs": [
    {
     "data": {
      "text/html": [
       "<pre style=\"word-wrap: normal;white-space: pre;background: #fff0;line-height: 1.1;font-family: &quot;Courier New&quot;,Courier,monospace\">     ┌──────────┐┌──────────┐ ░                 ░  ┌──────────┐┌───────────┐\n",
       "q_0: ┤ Ry(θ[0]) ├┤ Rz(θ[4]) ├─░───■─────────────░──┤ Ry(θ[8]) ├┤ Rz(θ[12]) ├\n",
       "     ├──────────┤├──────────┤ ░ ┌─┴─┐           ░  ├──────────┤├───────────┤\n",
       "q_1: ┤ Ry(θ[1]) ├┤ Rz(θ[5]) ├─░─┤ X ├──■────────░──┤ Ry(θ[9]) ├┤ Rz(θ[13]) ├\n",
       "     ├──────────┤├──────────┤ ░ └───┘┌─┴─┐      ░ ┌┴──────────┤├───────────┤\n",
       "q_2: ┤ Ry(θ[2]) ├┤ Rz(θ[6]) ├─░──────┤ X ├──■───░─┤ Ry(θ[10]) ├┤ Rz(θ[14]) ├\n",
       "     ├──────────┤├──────────┤ ░      └───┘┌─┴─┐ ░ ├───────────┤├───────────┤\n",
       "q_3: ┤ Ry(θ[3]) ├┤ Rz(θ[7]) ├─░───────────┤ X ├─░─┤ Ry(θ[11]) ├┤ Rz(θ[15]) ├\n",
       "     └──────────┘└──────────┘ ░           └───┘ ░ └───────────┘└───────────┘</pre>"
      ],
      "text/plain": [
       "     ┌──────────┐┌──────────┐ ░                 ░  ┌──────────┐┌───────────┐\n",
       "q_0: ┤ Ry(θ[0]) ├┤ Rz(θ[4]) ├─░───■─────────────░──┤ Ry(θ[8]) ├┤ Rz(θ[12]) ├\n",
       "     ├──────────┤├──────────┤ ░ ┌─┴─┐           ░  ├──────────┤├───────────┤\n",
       "q_1: ┤ Ry(θ[1]) ├┤ Rz(θ[5]) ├─░─┤ X ├──■────────░──┤ Ry(θ[9]) ├┤ Rz(θ[13]) ├\n",
       "     ├──────────┤├──────────┤ ░ └───┘┌─┴─┐      ░ ┌┴──────────┤├───────────┤\n",
       "q_2: ┤ Ry(θ[2]) ├┤ Rz(θ[6]) ├─░──────┤ X ├──■───░─┤ Ry(θ[10]) ├┤ Rz(θ[14]) ├\n",
       "     ├──────────┤├──────────┤ ░      └───┘┌─┴─┐ ░ ├───────────┤├───────────┤\n",
       "q_3: ┤ Ry(θ[3]) ├┤ Rz(θ[7]) ├─░───────────┤ X ├─░─┤ Ry(θ[11]) ├┤ Rz(θ[15]) ├\n",
       "     └──────────┘└──────────┘ ░           └───┘ ░ └───────────┘└───────────┘"
      ]
     },
     "execution_count": 3,
     "metadata": {},
     "output_type": "execute_result"
    }
   ],
   "source": [
    "from qiskit.circuit.library import EfficientSU2\n",
    "circuit = EfficientSU2(num_qubits, reps=1, entanglement=\"linear\", insert_barriers=True)\n",
    "\n",
    "circuit.decompose().draw()"
   ]
  },
  {
   "cell_type": "markdown",
   "id": "74a4fd37",
   "metadata": {
    "slideshow": {
     "slide_type": "slide"
    }
   },
   "source": [
    "## 3. Construct an optimization loop to minimize energy\n",
    "\n",
    "- Since we are interested in minimum energy (expval of Hamiltonian), we'll use the **Estimator primitive**.\n",
    "- We'll choose a **classical optimizer** to update the circuit ansatz parameters and configure the settings of the Qiskit Runtime Service.\n",
    "- We'll define a **callback function** to store extra info about the optimization."
   ]
  },
  {
   "cell_type": "code",
   "execution_count": 4,
   "id": "2285c550",
   "metadata": {},
   "outputs": [],
   "source": [
    "from qiskit_ibm_runtime import QiskitRuntimeService, Estimator\n",
    "from qiskit.algorithms.optimizers import SPSA\n",
    "import numpy as np\n",
    "\n",
    "service = QiskitRuntimeService()\n",
    "options = {\"backend\" : \"ibmq_qasm_simulator\"}\n",
    "\n",
    "# Callback: number of function evals, parameters, function value, stepsize, whether step was accepted\n",
    "history = {\"nfevs\": [], \"points\": [], \"fvals\": [], \"updates\": [], \"accepted\": []}"
   ]
  },
  {
   "cell_type": "markdown",
   "id": "801d72f7",
   "metadata": {
    "slideshow": {
     "slide_type": "slide"
    }
   },
   "source": [
    "#### Now, we use the Estimator primitive:"
   ]
  },
  {
   "cell_type": "code",
   "execution_count": 5,
   "id": "fd394243",
   "metadata": {
    "slideshow": {
     "slide_type": "slide"
    }
   },
   "outputs": [
    {
     "name": "stdout",
     "output_type": "stream",
     "text": [
      "expectation value: -0.072265625\n",
      "expectation value: -0.26171875\n",
      "expectation value: -0.490234375\n",
      "expectation value: -0.873046875\n",
      "expectation value: -0.923828125\n",
      "expectation value: -0.9921875\n",
      "expectation value: -0.98046875\n",
      "expectation value: -0.990234375\n",
      "expectation value: -0.98828125\n",
      "expectation value: -0.99609375\n",
      "expectation value: -0.998046875\n",
      "expectation value: -1.0\n",
      "expectation value: -1.0\n",
      "expectation value: -1.0\n",
      "expectation value: -1.0\n",
      "expectation value: -1.0\n",
      "expectation value: -0.998046875\n",
      "expectation value: -1.0\n",
      "expectation value: -1.0\n",
      "expectation value: -1.0\n"
     ]
    }
   ],
   "source": [
    "with Estimator(circuits=circuit, observables=ops, options=options, service=service) as estimator:\n",
    "    \n",
    "    def evaluate_expectation(x):\n",
    "        x = list(x)\n",
    "        results = estimator(circuits=[0], observables=[0], parameter_values=[x]).values[0]\n",
    "        return np.real(results)  \n",
    "    \n",
    "    def callback(nfev, point, fval, update, accepted):\n",
    "        print('expectation value: {}'.format(fval))\n",
    "        history[\"nfevs\"].append(nfev)\n",
    "        history[\"points\"].append(point)\n",
    "        history[\"fvals\"].append(fval)\n",
    "        history[\"updates\"].append(update)\n",
    "        history[\"accepted\"].append(accepted)\n",
    "\n",
    "    initial_point = np.random.random(circuit.num_parameters)\n",
    "    optimizer = SPSA(20, callback=callback)\n",
    "    result = optimizer.minimize(fun=evaluate_expectation, x0=initial_point)\n"
   ]
  },
  {
   "cell_type": "markdown",
   "id": "dc9e2719",
   "metadata": {
    "slideshow": {
     "slide_type": "slide"
    }
   },
   "source": [
    "#### Our algorithm reached the target energy:"
   ]
  },
  {
   "cell_type": "code",
   "execution_count": 6,
   "id": "fb7ec15e",
   "metadata": {},
   "outputs": [
    {
     "data": {
      "text/plain": [
       "0.0"
      ]
     },
     "execution_count": 6,
     "metadata": {},
     "output_type": "execute_result"
    }
   ],
   "source": [
    "history[\"fvals\"][-1] - target_energy"
   ]
  },
  {
   "cell_type": "markdown",
   "id": "8ff47c71",
   "metadata": {
    "slideshow": {
     "slide_type": "slide"
    }
   },
   "source": [
    "#### We can get other information about the optimization, such as the final circuit parameters:"
   ]
  },
  {
   "cell_type": "code",
   "execution_count": 7,
   "id": "7237247c",
   "metadata": {},
   "outputs": [
    {
     "name": "stdout",
     "output_type": "stream",
     "text": [
      "optimal point:\n",
      "[ 0.46522405 -0.52476735  1.83196964  3.13536883  0.38380442  2.09126234\n",
      "  1.25463965  0.83967941  1.52898628  1.62002559  0.00551032 -0.01501302\n",
      "  0.22517078  1.07463775  3.30407308  1.3216684 ]\n"
     ]
    }
   ],
   "source": [
    "print('optimal point:\\n{}'.format(result.x))"
   ]
  },
  {
   "cell_type": "code",
   "execution_count": 8,
   "id": "1736f39d",
   "metadata": {
    "slideshow": {
     "slide_type": "skip"
    }
   },
   "outputs": [
    {
     "data": {
      "text/plain": [
       "'0.6.0'"
      ]
     },
     "execution_count": 8,
     "metadata": {},
     "output_type": "execute_result"
    }
   ],
   "source": [
    "import qiskit_ibm_runtime\n",
    "qiskit_ibm_runtime.version.get_version_info()"
   ]
  },
  {
   "cell_type": "code",
   "execution_count": 9,
   "id": "91a9c440",
   "metadata": {
    "slideshow": {
     "slide_type": "skip"
    }
   },
   "outputs": [
    {
     "data": {
      "text/html": [
       "<h3>Version Information</h3><table><tr><th>Qiskit Software</th><th>Version</th></tr><tr><td><code>qiskit-terra</code></td><td>0.21.0</td></tr><tr><td><code>qiskit-aer</code></td><td>0.10.4</td></tr><tr><td><code>qiskit-ignis</code></td><td>0.7.1</td></tr><tr><td><code>qiskit-ibmq-provider</code></td><td>0.19.2</td></tr><tr><td><code>qiskit</code></td><td>0.37.0</td></tr><tr><td><code>qiskit-nature</code></td><td>0.4.0</td></tr><tr><td><code>qiskit-optimization</code></td><td>0.4.0</td></tr><tr><td><code>qiskit-machine-learning</code></td><td>0.3.0</td></tr><tr><th>System information</th></tr><tr><td>Python version</td><td>3.8.13</td></tr><tr><td>Python compiler</td><td>Clang 12.0.0 </td></tr><tr><td>Python build</td><td>default, Mar 28 2022 06:16:26</td></tr><tr><td>OS</td><td>Darwin</td></tr><tr><td>CPUs</td><td>4</td></tr><tr><td>Memory (Gb)</td><td>32.0</td></tr><tr><td colspan='2'>Wed Jul 06 18:34:04 2022 MDT</td></tr></table>"
      ],
      "text/plain": [
       "<IPython.core.display.HTML object>"
      ]
     },
     "metadata": {},
     "output_type": "display_data"
    },
    {
     "data": {
      "text/html": [
       "<div style='width: 100%; background-color:#d5d9e0;padding-left: 10px; padding-bottom: 10px; padding-right: 10px; padding-top: 5px'><h3>This code is a part of Qiskit</h3><p>&copy; Copyright IBM 2017, 2022.</p><p>This code is licensed under the Apache License, Version 2.0. You may<br>obtain a copy of this license in the LICENSE.txt file in the root directory<br> of this source tree or at http://www.apache.org/licenses/LICENSE-2.0.<p>Any modifications or derivative works of this code must retain this<br>copyright notice, and modified files need to carry a notice indicating<br>that they have been altered from the originals.</p></div>"
      ],
      "text/plain": [
       "<IPython.core.display.HTML object>"
      ]
     },
     "metadata": {},
     "output_type": "display_data"
    }
   ],
   "source": [
    "from qiskit.tools.jupyter import *\n",
    "\n",
    "%qiskit_version_table\n",
    "%qiskit_copyright"
   ]
  }
 ],
 "metadata": {
  "celltoolbar": "Slideshow",
  "kernelspec": {
   "display_name": "Python 3 (ipykernel)",
   "language": "python",
   "name": "python3"
  },
  "language_info": {
   "codemirror_mode": {
    "name": "ipython",
    "version": 3
   },
   "file_extension": ".py",
   "mimetype": "text/x-python",
   "name": "python",
   "nbconvert_exporter": "python",
   "pygments_lexer": "ipython3",
   "version": "3.8.13"
  }
 },
 "nbformat": 4,
 "nbformat_minor": 5
}
