{
 "cells": [
  {
   "cell_type": "markdown",
   "id": "cf451b81",
   "metadata": {},
   "source": [
    "# Variational Quantum Algorithms with Qiskit Runtime: <br> Ground State of a Molecule\n",
    "\n",
    "In this exercise, use Qiskit Runtime to find the approximate ground state energy of the $H_2$ molecule, with interatomic distance 0.72 angstroms.\n",
    "\n",
    "_Hints_\n",
    "\n",
    "- Start with the [notebook implementing a generic VQA](Part3_VQA_Generic.ipynb) and modify the input problem to accept an electronic structure problem.\n",
    "<br>\n",
    "\n",
    "- For help on setting up an electronic structure problem for $H_2$, check out [this tutorial from Qiskit Nature](https://qiskit.org/documentation/nature/tutorials/01_electronic_structure.html). \n",
    "<br>\n",
    "\n",
    "- It's recommended you use pyscf for the [`ElectronicStructureMoleculeDriver`](https://qiskit.org/documentation/nature/stubs/qiskit_nature.drivers.second_quantization.ElectronicStructureMoleculeDriver.html) and [`ParityMapper` for the qubit conversion](https://qiskit.org/documentation/nature/stubs/qiskit_nature.mappers.second_quantization.ParityMapper.html) (to reduce the system size down to 2 qubits). \n",
    "<br>\n",
    "\n",
    "- You can test different classical optimizers (e.g., [`NELDER_MEAD`](https://qiskit.org/documentation/stubs/qiskit.algorithms.optimizers.NELDER_MEAD.html)) and circuit ansatzae (e.g., [`RealAmplitudes`](https://qiskit.org/documentation/stubs/qiskit.circuit.library.RealAmplitudes.html))\n",
    "<br>\n",
    "\n",
    "- Once you get the expectation value from the qubit Hamiltonian, add back in the nuclear repulsion energy using the `total_energies` method of the `ElectronicStructureResult` documented [here](https://qiskit.org/documentation/nature/stubs/qiskit_nature.results.ElectronicStructureResult.total_energies.html#qiskit_nature.results.ElectronicStructureResult.total_energies)."
   ]
  }
 ],
 "metadata": {
  "kernelspec": {
   "display_name": "Python 3 (ipykernel)",
   "language": "python",
   "name": "python3"
  },
  "language_info": {
   "codemirror_mode": {
    "name": "ipython",
    "version": 3
   },
   "file_extension": ".py",
   "mimetype": "text/x-python",
   "name": "python",
   "nbconvert_exporter": "python",
   "pygments_lexer": "ipython3",
   "version": "3.8.13"
  }
 },
 "nbformat": 4,
 "nbformat_minor": 5
}
