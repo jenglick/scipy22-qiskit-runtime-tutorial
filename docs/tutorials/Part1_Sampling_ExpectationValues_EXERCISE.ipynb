{
 "cells": [
  {
   "cell_type": "markdown",
   "id": "18091ccb",
   "metadata": {
    "slideshow": {
     "slide_type": "slide"
    }
   },
   "source": [
    "# Part 1: Introduction to Foundational Quantum Computing Tasks\n",
    "\n",
    "1. Sampling from quantum circuits (plus an exercise)\n",
    "\n",
    "2. Estimating expectation values of observables (plus an exercise)"
   ]
  },
  {
   "cell_type": "markdown",
   "id": "31b1f3df",
   "metadata": {
    "slideshow": {
     "slide_type": "slide"
    }
   },
   "source": [
    "# 1. Sampling from quantum circuits"
   ]
  },
  {
   "cell_type": "markdown",
   "id": "522efc1d",
   "metadata": {
    "slideshow": {
     "slide_type": "slide"
    }
   },
   "source": [
    "### Quantum circuit: bit flip"
   ]
  },
  {
   "cell_type": "code",
   "execution_count": 1,
   "id": "37b07f7d",
   "metadata": {},
   "outputs": [],
   "source": [
    "# import functionality from qiskit for building and running circuits\n",
    "from qiskit import QuantumCircuit, BasicAer, transpile\n",
    "import numpy as np"
   ]
  },
  {
   "cell_type": "code",
   "execution_count": 2,
   "id": "abd7a973",
   "metadata": {},
   "outputs": [
    {
     "data": {
      "text/html": [
       "<pre style=\"word-wrap: normal;white-space: pre;background: #fff0;line-height: 1.1;font-family: &quot;Courier New&quot;,Courier,monospace\">        ┌───┐ ░ ┌─┐\n",
       "     q: ┤ X ├─░─┤M├\n",
       "        └───┘ ░ └╥┘\n",
       "meas: 1/═════════╩═\n",
       "                 0 </pre>"
      ],
      "text/plain": [
       "        ┌───┐ ░ ┌─┐\n",
       "     q: ┤ X ├─░─┤M├\n",
       "        └───┘ ░ └╥┘\n",
       "meas: 1/═════════╩═\n",
       "                 0 "
      ]
     },
     "execution_count": 2,
     "metadata": {},
     "output_type": "execute_result"
    }
   ],
   "source": [
    "# define a quantum circuit with a single \"X\" gate\n",
    "circuit = QuantumCircuit(1)\n",
    "circuit.x(0)\n",
    "circuit.measure_all()\n",
    "\n",
    "circuit.draw()"
   ]
  },
  {
   "cell_type": "code",
   "execution_count": 3,
   "id": "d7cca7c8",
   "metadata": {},
   "outputs": [],
   "source": [
    "# select a quantum backend and run the circuit\n",
    "backend = BasicAer.get_backend('qasm_simulator')\n",
    "shots = 2**13\n",
    "\n",
    "job = backend.run(circuit, shots=shots)\n",
    "result = job.result()"
   ]
  },
  {
   "cell_type": "code",
   "execution_count": 4,
   "id": "88a944f6",
   "metadata": {},
   "outputs": [
    {
     "name": "stdout",
     "output_type": "stream",
     "text": [
      "{'1': 8192}\n",
      "probability to measure state 0: 0.0%\n",
      "probability to measure state 1: 100.0%\n"
     ]
    }
   ],
   "source": [
    "# get the measurement counts from the circuit\n",
    "counts = result.get_counts()\n",
    "print(counts)\n",
    "print('probability to measure state 0: {}%'.format(counts.get('0', 0) / shots * 100))\n",
    "print('probability to measure state 1: {}%'.format(counts.get('1', 0) / shots * 100))"
   ]
  },
  {
   "cell_type": "markdown",
   "id": "5bcd3977",
   "metadata": {
    "slideshow": {
     "slide_type": "slide"
    }
   },
   "source": [
    "### Quantum circuit: superposition"
   ]
  },
  {
   "cell_type": "code",
   "execution_count": 5,
   "id": "f28d244a",
   "metadata": {},
   "outputs": [
    {
     "data": {
      "text/html": [
       "<pre style=\"word-wrap: normal;white-space: pre;background: #fff0;line-height: 1.1;font-family: &quot;Courier New&quot;,Courier,monospace\">        ┌───┐ ░ ┌─┐\n",
       "     q: ┤ H ├─░─┤M├\n",
       "        └───┘ ░ └╥┘\n",
       "meas: 1/═════════╩═\n",
       "                 0 </pre>"
      ],
      "text/plain": [
       "        ┌───┐ ░ ┌─┐\n",
       "     q: ┤ H ├─░─┤M├\n",
       "        └───┘ ░ └╥┘\n",
       "meas: 1/═════════╩═\n",
       "                 0 "
      ]
     },
     "execution_count": 5,
     "metadata": {},
     "output_type": "execute_result"
    }
   ],
   "source": [
    "# define a quantum circuit with a single Hadamard gate\n",
    "circuit = QuantumCircuit(1)\n",
    "circuit.h(0)\n",
    "circuit.measure_all()\n",
    "\n",
    "circuit.draw()"
   ]
  },
  {
   "cell_type": "code",
   "execution_count": 6,
   "id": "b215aeb9",
   "metadata": {},
   "outputs": [
    {
     "name": "stdout",
     "output_type": "stream",
     "text": [
      "{'1': 4065, '0': 4127}\n",
      "probability to measure state 0: 50.37841796875%\n",
      "probability to measure state 1: 49.62158203125%\n"
     ]
    }
   ],
   "source": [
    "job = backend.run(transpile(circuit, backend), shots=shots)\n",
    "result = job.result()\n",
    "\n",
    "counts = result.get_counts()\n",
    "print(counts)\n",
    "print('probability to measure state 0: {}%'.format(counts.get('0', 0) / shots * 100))\n",
    "print('probability to measure state 1: {}%'.format(counts.get('1', 0) / shots * 100))"
   ]
  },
  {
   "cell_type": "markdown",
   "id": "d71590aa",
   "metadata": {
    "slideshow": {
     "slide_type": "slide"
    }
   },
   "source": [
    "## ! EXERCISE !\n",
    "\n",
    "**Sample from a circuit with entangling gates.**\n",
    "\n",
    "1. Create a circuit with both single and two-qubit entangling gates of your choosing (check out the [Qiskit Circuit Library of standard gates](https://qiskit.org/documentation/apidoc/circuit_library.html)). For example, perhaps you might build a [Bell state](https://en.wikipedia.org/wiki/Bell_state) or a [GHZ state](https://en.wikipedia.org/wiki/Greenberger%E2%80%93Horne%E2%80%93Zeilinger_state).\n",
    "2. Measure all qubits in the computational basis\n",
    "3. Run the circuit on the `qasm_simulator` backend\n",
    "4. Plot a histogram of measurement counts (you can use Qiskit's `plot_histogram` functionality documented [here](https://qiskit.org/documentation/stubs/qiskit.visualization.plot_histogram.html))\n",
    "\n",
    "Is the output what you expected?"
   ]
  },
  {
   "cell_type": "markdown",
   "id": "0998ae21",
   "metadata": {
    "slideshow": {
     "slide_type": "slide"
    }
   },
   "source": [
    "# 2. Estimating expectation values "
   ]
  },
  {
   "cell_type": "markdown",
   "id": "65f8c23b",
   "metadata": {
    "slideshow": {
     "slide_type": "slide"
    }
   },
   "source": [
    "### Example: Pauli $Z$ operator\n",
    "\n",
    "Recall that $Z = |0\\rangle\\langle0| - |1\\rangle\\langle1|$\n",
    "\n",
    "This means we can write the expectation of $Z$ as: \n",
    "\n",
    "\\begin{equation}\n",
    "\\begin{split}\n",
    "   \\langle\\psi|Z|\\psi\\rangle & = \\langle\\psi|0\\rangle\\langle0|\\psi\\rangle-\\langle\\psi|1\\rangle\\langle1|\\psi\\rangle \\\\\n",
    "                             & = |\\langle0|\\psi\\rangle|^2 - |\\langle1|\\psi\\rangle|^2 \\\\\n",
    "                             & = p(0) - p(1)\n",
    "\\end{split}\n",
    "\\end{equation}\n",
    "\n",
    "Therefore, to estimate the expectation value of $Z$, we: \n",
    "\n",
    "1. Prepare a circuit representing $|\\psi\\rangle$\n",
    "2. Measure in the computational ($Z$) basis to get the probabilities $|\\langle0|\\psi\\rangle|^2, |\\langle1|\\psi\\rangle|^2$\n",
    "3. Subtract the probability to measure \"1\" from \"0\""
   ]
  },
  {
   "cell_type": "markdown",
   "id": "e7adf3fd",
   "metadata": {
    "slideshow": {
     "slide_type": "slide"
    }
   },
   "source": [
    "**Let's consider the state $|\\psi\\rangle=|1\\rangle$**"
   ]
  },
  {
   "cell_type": "code",
   "execution_count": 7,
   "id": "55891652",
   "metadata": {},
   "outputs": [
    {
     "name": "stdout",
     "output_type": "stream",
     "text": [
      "[0. 1.]\n"
     ]
    }
   ],
   "source": [
    "# define the state |1>\n",
    "a = 0\n",
    "b = 1\n",
    "state = np.array([a,b])\n",
    "norm = np.linalg.norm(state)\n",
    "normalized_state_ONE = state/norm\n",
    "\n",
    "print(normalized_state_ONE)"
   ]
  },
  {
   "cell_type": "code",
   "execution_count": 8,
   "id": "3484af27",
   "metadata": {},
   "outputs": [
    {
     "name": "stdout",
     "output_type": "stream",
     "text": [
      "        ┌─────────────────┐ ░ ┌─┐\n",
      "     q: ┤ Initialize(0,1) ├─░─┤M├\n",
      "        └─────────────────┘ ░ └╥┘\n",
      "meas: 1/═══════════════════════╩═\n",
      "                               0 \n"
     ]
    }
   ],
   "source": [
    "# then, initialize this state as a quantum circuit and measure in computational (Z) basis\n",
    "circuit = QuantumCircuit(1)\n",
    "circuit.initialize(normalized_state_ONE)\n",
    "circuit.measure_all()\n",
    "print(circuit)"
   ]
  },
  {
   "cell_type": "code",
   "execution_count": 9,
   "id": "27bcb50f",
   "metadata": {
    "slideshow": {
     "slide_type": "slide"
    }
   },
   "outputs": [
    {
     "name": "stdout",
     "output_type": "stream",
     "text": [
      "{'1': 8192}\n",
      "expectation value: -1.0\n"
     ]
    }
   ],
   "source": [
    "# run the circuit and then subtract the two probabilities p(0)-p(1)\n",
    "job = backend.run(transpile(circuit, backend), shots=shots)\n",
    "result = job.result()\n",
    "\n",
    "counts = result.get_counts()\n",
    "print(counts)\n",
    "\n",
    "expval = (counts.get('0',0)-counts.get('1',0)) / shots\n",
    "print('expectation value: {}'.format(expval))"
   ]
  },
  {
   "cell_type": "markdown",
   "id": "1b4b6247",
   "metadata": {},
   "source": [
    "This makes sense because $\\langle1|Z|1\\rangle = |\\langle0|1\\rangle|^2-|\\langle1|1\\rangle|^2 = 0 - 1 = -1$"
   ]
  },
  {
   "cell_type": "markdown",
   "id": "30a29bad",
   "metadata": {
    "slideshow": {
     "slide_type": "slide"
    }
   },
   "source": [
    "**Now, consider the state $|\\psi\\rangle=|+\\rangle$**"
   ]
  },
  {
   "cell_type": "code",
   "execution_count": 10,
   "id": "8100b011",
   "metadata": {},
   "outputs": [
    {
     "name": "stdout",
     "output_type": "stream",
     "text": [
      "[0.70710678 0.70710678]\n"
     ]
    }
   ],
   "source": [
    "# define the state |+>\n",
    "a = 0.70710678 # 1/sqrt(2)\n",
    "b = 0.70710678\n",
    "state = np.array([a,b])\n",
    "norm = np.linalg.norm(state)\n",
    "normalized_state_PLUS = state/norm\n",
    "\n",
    "print(normalized_state_PLUS)"
   ]
  },
  {
   "cell_type": "code",
   "execution_count": 11,
   "id": "d3c230da",
   "metadata": {},
   "outputs": [
    {
     "name": "stdout",
     "output_type": "stream",
     "text": [
      "        ┌─────────────────────────────┐ ░ ┌─┐\n",
      "     q: ┤ Initialize(0.70711,0.70711) ├─░─┤M├\n",
      "        └─────────────────────────────┘ ░ └╥┘\n",
      "meas: 1/═══════════════════════════════════╩═\n",
      "                                           0 \n"
     ]
    }
   ],
   "source": [
    "# initialize as a quantum circuit and measure\n",
    "circuit = QuantumCircuit(1)\n",
    "circuit.initialize(normalized_state_PLUS)\n",
    "circuit.measure_all()\n",
    "print(circuit)"
   ]
  },
  {
   "cell_type": "code",
   "execution_count": 12,
   "id": "a85905ac",
   "metadata": {
    "slideshow": {
     "slide_type": "slide"
    }
   },
   "outputs": [
    {
     "name": "stdout",
     "output_type": "stream",
     "text": [
      "{'0': 4073, '1': 4119}\n",
      "expectation value: -0.005615234375\n"
     ]
    }
   ],
   "source": [
    "# run the circuit and then subtract the two probabilities p(0)-p(1)\n",
    "job = backend.run(transpile(circuit, backend), shots=shots)\n",
    "result = job.result()\n",
    "\n",
    "counts = result.get_counts()\n",
    "print(counts)\n",
    "\n",
    "expval = (counts.get('0',0)-counts.get('1',0)) / shots\n",
    "print('expectation value: {}'.format(expval))"
   ]
  },
  {
   "cell_type": "markdown",
   "id": "4db61e92",
   "metadata": {},
   "source": [
    "This also makes sense because $\\langle+|Z|+\\rangle = |\\langle0|+\\rangle|^2-|\\langle1|+\\rangle|^2 = 1/2 - 1/2 = 0$ (we get close to this due to finite sampling errors)"
   ]
  },
  {
   "cell_type": "markdown",
   "id": "64d93468",
   "metadata": {
    "slideshow": {
     "slide_type": "slide"
    }
   },
   "source": [
    "**Why did this work?**\n",
    "\n",
    "Because the native measurement we perform is in the computational basis, which is the eigenbasis of our original operator $Z$.\n",
    "\n",
    "*(What if we want to measure an operator that does not share this basis?)*"
   ]
  },
  {
   "cell_type": "code",
   "execution_count": 13,
   "id": "84415dcd",
   "metadata": {
    "slideshow": {
     "slide_type": "slide"
    }
   },
   "outputs": [],
   "source": [
    "# define the Pauli Z operator\n",
    "z = np.array([[1,  0],\n",
    "             [0, -1]])"
   ]
  },
  {
   "cell_type": "code",
   "execution_count": 14,
   "id": "e4a70a63",
   "metadata": {},
   "outputs": [
    {
     "name": "stdout",
     "output_type": "stream",
     "text": [
      "Eigensystem of Z:\n",
      "[-1.  1.]\n",
      "[[0. 1.]\n",
      " [1. 0.]]\n"
     ]
    },
    {
     "data": {
      "image/png": "[encoded data removed]",
      "text/plain": [
       "<Figure size 345.6x345.6 with 1 Axes>"
      ]
     },
     "execution_count": 14,
     "metadata": {},
     "output_type": "execute_result"
    }
   ],
   "source": [
    "# what are the eigenvectors of this operator?\n",
    "from qiskit.visualization import plot_state_city, plot_bloch_multivector\n",
    "z_eigenvals, z_eigenvecs = np.linalg.eigh(z)\n",
    "\n",
    "print('Eigensystem of Z:')\n",
    "print(z_eigenvals)\n",
    "print(z_eigenvecs)\n",
    "\n",
    "plot_bloch_multivector(z_eigenvecs[:,0])"
   ]
  },
  {
   "cell_type": "markdown",
   "id": "0b48cdf4",
   "metadata": {
    "slideshow": {
     "slide_type": "slide"
    }
   },
   "source": [
    "## ! EXERCISE !\n",
    "\n",
    "\n",
    "**Compute the expectation value of the Pauli $X$ and $Y$ operators in the states $|1\\rangle, |+\\rangle$.**\n",
    "\n",
    "Hint: these operators can be related to $Z$ via the following transformations: $HZH=X$ and $SHZHS^\\dagger=Y$. How does this modify the math we saw above for the expectation value (and hence the circuit implementation)?\n",
    "\n",
    "Check out [this chapter of the Qiskit Textbook for info about using single-qubit gates](https://qiskit.org/textbook/ch-states/single-qubit-gates.html)."
   ]
  },
  {
   "cell_type": "code",
   "execution_count": 15,
   "id": "5360848f",
   "metadata": {
    "slideshow": {
     "slide_type": "slide"
    }
   },
   "outputs": [
    {
     "data": {
      "text/html": [
       "<h3>Version Information</h3><table><tr><th>Qiskit Software</th><th>Version</th></tr><tr><td><code>qiskit-terra</code></td><td>0.21.0</td></tr><tr><td><code>qiskit-aer</code></td><td>0.10.4</td></tr><tr><td><code>qiskit-ignis</code></td><td>0.7.1</td></tr><tr><td><code>qiskit-ibmq-provider</code></td><td>0.19.2</td></tr><tr><td><code>qiskit</code></td><td>0.37.0</td></tr><tr><td><code>qiskit-nature</code></td><td>0.4.0</td></tr><tr><td><code>qiskit-optimization</code></td><td>0.4.0</td></tr><tr><td><code>qiskit-machine-learning</code></td><td>0.3.0</td></tr><tr><th>System information</th></tr><tr><td>Python version</td><td>3.8.13</td></tr><tr><td>Python compiler</td><td>Clang 12.0.0 </td></tr><tr><td>Python build</td><td>default, Mar 28 2022 06:16:26</td></tr><tr><td>OS</td><td>Darwin</td></tr><tr><td>CPUs</td><td>4</td></tr><tr><td>Memory (Gb)</td><td>32.0</td></tr><tr><td colspan='2'>Wed Jul 06 19:27:41 2022 MDT</td></tr></table>"
      ],
      "text/plain": [
       "<IPython.core.display.HTML object>"
      ]
     },
     "metadata": {},
     "output_type": "display_data"
    },
    {
     "data": {
      "text/html": [
       "<div style='width: 100%; background-color:#d5d9e0;padding-left: 10px; padding-bottom: 10px; padding-right: 10px; padding-top: 5px'><h3>This code is a part of Qiskit</h3><p>&copy; Copyright IBM 2017, 2022.</p><p>This code is licensed under the Apache License, Version 2.0. You may<br>obtain a copy of this license in the LICENSE.txt file in the root directory<br> of this source tree or at http://www.apache.org/licenses/LICENSE-2.0.<p>Any modifications or derivative works of this code must retain this<br>copyright notice, and modified files need to carry a notice indicating<br>that they have been altered from the originals.</p></div>"
      ],
      "text/plain": [
       "<IPython.core.display.HTML object>"
      ]
     },
     "metadata": {},
     "output_type": "display_data"
    }
   ],
   "source": [
    "import qiskit.tools.jupyter\n",
    "%qiskit_version_table\n",
    "%qiskit_copyright"
   ]
  }
 ],
 "metadata": {
  "kernelspec": {
   "display_name": "Python 3 (ipykernel)",
   "language": "python",
   "name": "python3"
  },
  "language_info": {
   "codemirror_mode": {
    "name": "ipython",
    "version": 3
   },
   "file_extension": ".py",
   "mimetype": "text/x-python",
   "name": "python",
   "nbconvert_exporter": "python",
   "pygments_lexer": "ipython3",
   "version": "3.8.13"
  }
 },
 "nbformat": 4,
 "nbformat_minor": 5
}
